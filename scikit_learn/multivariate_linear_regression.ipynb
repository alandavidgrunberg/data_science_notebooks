{
 "cells": [
  {
   "cell_type": "code",
   "execution_count": 2,
   "id": "15a6ea7a",
   "metadata": {},
   "outputs": [
    {
     "data": {
      "text/plain": [
       "LinearRegression(copy_X=True, fit_intercept=True, n_jobs=None, normalize=False)"
      ]
     },
     "execution_count": 2,
     "metadata": {},
     "output_type": "execute_result"
    }
   ],
   "source": [
    "### multivariate linear regression\n",
    "\n",
    "import pandas as pd\n",
    "from sklearn.datasets import load_boston\n",
    "from sklearn.model_selection import train_test_split\n",
    "## import model\n",
    "from sklearn.linear_model import LinearRegression\n",
    "from sklearn.metrics import mean_squared_error\n",
    "\n",
    "boston_dataset = load_boston()\n",
    "\n",
    "## build a DataFrame\n",
    "boston = pd.DataFrame(boston_dataset.data, columns=boston_dataset.feature_names)\n",
    "boston['MEDV'] = boston_dataset.target\n",
    "\n",
    "## data preparation\n",
    "## feature selection\n",
    "X = boston[['RM','LSTAT']] #multible variables\n",
    "y = boston['MEDV']\n",
    "\n",
    "## train test split\n",
    "X_train, X_test, y_train, y_test = train_test_split(X, y, test_size = 0.3, random_state=42)\n",
    "\n",
    "## instantiate\n",
    "model = LinearRegression()\n",
    "\n",
    "## fit\n",
    "model.fit(X_train, y_train)"
   ]
  },
  {
   "cell_type": "code",
   "execution_count": 3,
   "id": "e5955623",
   "metadata": {},
   "outputs": [
    {
     "name": "stdout",
     "output_type": "stream",
     "text": [
      "-0.22886344819943716\n",
      "[ 4.99734079 -0.67359875]\n"
     ]
    }
   ],
   "source": [
    "# show intercept and coefficients \n",
    "print(model.intercept_)\n",
    "print(model.coef_) # outputs array, order matches order of features, so 5 is RM coeffiecent, -.67 is LSTAT coefficent\n",
    "# model is  Y = M1(X1) + M2(X2) + B\n",
    "# therefore MEDV = (5)(RM) + (-.67)(LSTAT) + (-.23)"
   ]
  },
  {
   "cell_type": "code",
   "execution_count": 5,
   "id": "f51a3b92",
   "metadata": {},
   "outputs": [
    {
     "name": "stdout",
     "output_type": "stream",
     "text": [
      "29.816277731842458\n",
      "5.46042834691954\n",
      "4.0880457454485155\n",
      "0.5998518447715597\n",
      "\n"
     ]
    }
   ],
   "source": [
    "## predict \n",
    "y_test_predictions = model.predict(X_test)\n",
    "\n",
    "## evaluating model performance \n",
    "print(mean_squared_error(y_test, y_test_predictions)) # MSE (mean squared error)\n",
    "print(mean_squared_error(y_test, y_test_predictions)**.5) # RMSE (root mean squared error)\n",
    "print(abs(y_test - y_test_predictions).mean()) # MAE (mean absolute error)\n",
    "print(model.score(X_test, y_test)) # R-score\n",
    "# lower MSE, RMSE, MAE & higher R-score than the previous univariate regression RM vs MEDV  = better model! Usally more variables = better model but don't go overboard\n",
    "print()"
   ]
  },
  {
   "cell_type": "code",
   "execution_count": 6,
   "id": "d8b3dfe4",
   "metadata": {},
   "outputs": [
    {
     "name": "stdout",
     "output_type": "stream",
     "text": [
      "[16.17390652]\n",
      "16.173906523799022\n",
      "16.173906621800562\n"
     ]
    }
   ],
   "source": [
    "## plugging in an imaginary house\n",
    "new_house = [[8,35]] # house with 8 rooms in neighborhood with 35% of population lower status \n",
    "print(model.predict(new_house)) # model says it should cost ~$16,173\n",
    "print((model.coef_[0]*8)+(model.coef_[1]*35) + model.intercept_) # plug in coefs and intercept, same answer\n",
    "print((4.99734079 * 8) + (-0.67359875 * 35) + (-0.22886344819943716)) #plug in numbers manually, same answer\n",
    "\n",
    "# code and comments by github.com/alandavidgrunberg\n"
   ]
  }
 ],
 "metadata": {
  "kernelspec": {
   "display_name": "Python 3 (ipykernel)",
   "language": "python",
   "name": "python3"
  },
  "language_info": {
   "codemirror_mode": {
    "name": "ipython",
    "version": 3
   },
   "file_extension": ".py",
   "mimetype": "text/x-python",
   "name": "python",
   "nbconvert_exporter": "python",
   "pygments_lexer": "ipython3",
   "version": "3.8.12"
  },
  "toc": {
   "base_numbering": 1,
   "nav_menu": {},
   "number_sections": true,
   "sideBar": true,
   "skip_h1_title": false,
   "title_cell": "Table of Contents",
   "title_sidebar": "Contents",
   "toc_cell": false,
   "toc_position": {},
   "toc_section_display": true,
   "toc_window_display": false
  }
 },
 "nbformat": 4,
 "nbformat_minor": 5
}
