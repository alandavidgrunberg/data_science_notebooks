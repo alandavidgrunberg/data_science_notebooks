{
 "cells": [
  {
   "cell_type": "code",
   "execution_count": 1,
   "id": "88e7bba6",
   "metadata": {},
   "outputs": [
    {
     "name": "stdout",
     "output_type": "stream",
     "text": [
      "model 1 AUC score: 0.8572299651567944\n",
      "model 2 AUC score: 0.8390679442508711\n"
     ]
    }
   ],
   "source": [
    "import pandas as pd\n",
    "from sklearn.linear_model import LogisticRegression\n",
    "from sklearn.model_selection import train_test_split\n",
    "from sklearn.metrics import roc_auc_score\n",
    "\n",
    "df = pd.read_csv('https://sololearn.com/uploads/files/titanic.csv')\n",
    "df['Male'] = df['Sex'] == 'male'\n",
    "X = df[['Pclass', 'Male', 'Age', 'Siblings/Spouses', 'Parents/Children', 'Fare']].values\n",
    "y = df['Survived'].values\n",
    "\n",
    "X_train, X_test, y_train, y_test = train_test_split(X, y, random_state=5)\n",
    "\n",
    "## Area Under Curve (AUC)\n",
    "\n",
    "# ROC Curve shows different thresholds for the same logistic regression model. This helps us choose the best threshold for our final model.\n",
    "\n",
    "# AUC allows us to compare ROC Curves for different logistic regression models. This helps us choose the best combination of features for our final model.\n",
    "\n",
    "# AUC value between 0 and 1, the higher the better\n",
    "\n",
    "model1 = LogisticRegression() \n",
    "model1.fit(X_train, y_train) # fit on training data, all 6 features\n",
    "y_pred_proba1 = model1.predict_proba(X_test) # prediction probabilities on testing data\n",
    "                                             # outputs 2 columns: probability in 0 class (died), probability in 1 class (survived)\n",
    "y_survival_proba1 = y_pred_proba1[:,1] # we only need 2nd column: probability survived\n",
    "                                       # assign to new variable 'y_survival_proba1'\n",
    "print(\"model 1 AUC score:\", roc_auc_score(y_test, y_survival_proba1)) # pass actual targets and predicted probabilities to 'roc_auc_score()' to get AUC score\n",
    "\n",
    "\n",
    "model2 = LogisticRegression()\n",
    "model2.fit(X_train[:, 0:2], y_train) # fitting only on first 2 columns of 'X_train' (first 2 features 'Pclass' and 'Male')\n",
    "y_pred_proba2 = model2.predict_proba(X_test[:, 0:2]) # prediction probabilities on first 2 columns of 'X_test' (first 2 features 'Pclass' and 'Male')\n",
    "                                                     # outputs 2 columns: probability in 0 class (died), probability in 1 class (survived)\n",
    "y_survival_proba2 = y_pred_proba2[:,1] # we only need 2nd column: probability survived\n",
    "                                       # assign to new variable 'y_survival_proba2'\n",
    "print(\"model 2 AUC score:\", roc_auc_score(y_test, y_survival_proba2)) # pass actual targets and predicted probabilities to 'roc_auc_score()' to get AUC score\n",
    "\n",
    "# model 1 has higher AUC score, so better model. \n",
    "\n",
    "# code and comments by github.com/alandavidgrunberg\n"
   ]
  }
 ],
 "metadata": {
  "kernelspec": {
   "display_name": "Python 3 (ipykernel)",
   "language": "python",
   "name": "python3"
  },
  "language_info": {
   "codemirror_mode": {
    "name": "ipython",
    "version": 3
   },
   "file_extension": ".py",
   "mimetype": "text/x-python",
   "name": "python",
   "nbconvert_exporter": "python",
   "pygments_lexer": "ipython3",
   "version": "3.8.12"
  },
  "toc": {
   "base_numbering": 1,
   "nav_menu": {},
   "number_sections": true,
   "sideBar": true,
   "skip_h1_title": false,
   "title_cell": "Table of Contents",
   "title_sidebar": "Contents",
   "toc_cell": false,
   "toc_position": {},
   "toc_section_display": true,
   "toc_window_display": false
  }
 },
 "nbformat": 4,
 "nbformat_minor": 5
}
