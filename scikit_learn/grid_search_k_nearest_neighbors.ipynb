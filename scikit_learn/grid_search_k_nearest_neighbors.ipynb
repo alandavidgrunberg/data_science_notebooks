{
 "cells": [
  {
   "cell_type": "code",
   "execution_count": 2,
   "id": "26fd4bc4",
   "metadata": {},
   "outputs": [
    {
     "name": "stdout",
     "output_type": "stream",
     "text": [
      "{'n_neighbors': 1}\n",
      "0.9733333333333334\n",
      "\n"
     ]
    }
   ],
   "source": [
    "import pandas as pd\n",
    "import numpy as np\n",
    "from sklearn.neighbors import KNeighborsClassifier\n",
    "from sklearn.model_selection import GridSearchCV\n",
    "\n",
    "iris = pd.read_csv('https://sololearn.com/uploads/files/iris.csv')\n",
    "\n",
    "X = iris[['petal_len', 'petal_wd']]\n",
    "y = iris['species']\n",
    "\n",
    "knn = KNeighborsClassifier() \n",
    "param_grid = {'n_neighbors': np.arange(1, 10)} \n",
    "knn_gscv = GridSearchCV(knn, param_grid, cv=5) \n",
    "knn_gscv.fit(X, y)\n",
    "\n",
    "print(knn_gscv.best_params_) \n",
    "print(knn_gscv.best_score_)\n",
    "print()"
   ]
  },
  {
   "cell_type": "code",
   "execution_count": 4,
   "id": "338e5e8e",
   "metadata": {},
   "outputs": [
    {
     "name": "stdout",
     "output_type": "stream",
     "text": [
      "0.9933333333333333\n"
     ]
    }
   ],
   "source": [
    "# ^look at that, 1 nearest neighbor model has the best score!\n",
    "# lets fit/predict/score all the data on that model\n",
    "\n",
    "knn_final = KNeighborsClassifier(n_neighbors=knn_gscv.best_params_['n_neighbors'])\n",
    "knn_final.fit(X, y)\n",
    "y_pred = knn_final.predict(X)\n",
    "\n",
    "print(knn_final.score(X, y))\n",
    "\n",
    "# code and comments by github.com/alandavidgrunberg\n"
   ]
  }
 ],
 "metadata": {
  "kernelspec": {
   "display_name": "Python 3 (ipykernel)",
   "language": "python",
   "name": "python3"
  },
  "language_info": {
   "codemirror_mode": {
    "name": "ipython",
    "version": 3
   },
   "file_extension": ".py",
   "mimetype": "text/x-python",
   "name": "python",
   "nbconvert_exporter": "python",
   "pygments_lexer": "ipython3",
   "version": "3.8.12"
  },
  "toc": {
   "base_numbering": 1,
   "nav_menu": {},
   "number_sections": true,
   "sideBar": true,
   "skip_h1_title": false,
   "title_cell": "Table of Contents",
   "title_sidebar": "Contents",
   "toc_cell": false,
   "toc_position": {},
   "toc_section_display": true,
   "toc_window_display": false
  }
 },
 "nbformat": 4,
 "nbformat_minor": 5
}
