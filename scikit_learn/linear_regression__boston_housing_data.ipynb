{
 "cells": [
  {
   "cell_type": "code",
   "execution_count": 9,
   "id": "944396d6",
   "metadata": {
    "scrolled": true
   },
   "outputs": [
    {
     "name": "stdout",
     "output_type": "stream",
     "text": [
      "(506, 14)\n",
      "\n",
      "Index(['CRIM', 'ZN', 'INDUS', 'CHAS', 'NOX', 'RM', 'AGE', 'DIS', 'RAD', 'TAX', 'PTRATIO', 'B', 'LSTAT', 'MEDV'], dtype='object')\n",
      "\n",
      "      CRIM    ZN  INDUS  CHAS    NOX     RM   AGE     DIS  RAD    TAX  PTRATIO       B  LSTAT  MEDV\n",
      "0  0.00632  18.0   2.31   0.0  0.538  6.575  65.2  4.0900  1.0  296.0     15.3  396.90   4.98  24.0\n",
      "1  0.02731   0.0   7.07   0.0  0.469  6.421  78.9  4.9671  2.0  242.0     17.8  396.90   9.14  21.6\n",
      "2  0.02729   0.0   7.07   0.0  0.469  7.185  61.1  4.9671  2.0  242.0     17.8  392.83   4.03  34.7\n",
      "3  0.03237   0.0   2.18   0.0  0.458  6.998  45.8  6.0622  3.0  222.0     18.7  394.63   2.94  33.4\n",
      "4  0.06905   0.0   2.18   0.0  0.458  7.147  54.2  6.0622  3.0  222.0     18.7  396.90   5.33  36.2\n"
     ]
    }
   ],
   "source": [
    "import pandas as pd\n",
    "\n",
    "#import boston dataset \n",
    "from sklearn.datasets import load_boston\n",
    "boston_dataset = load_boston()\n",
    "\n",
    "# build a DataFrame\n",
    "boston = pd.DataFrame(boston_dataset.data, \n",
    "                      columns=boston_dataset.feature_names)\n",
    "boston['MEDV'] = boston_dataset.target\n",
    "\n",
    "\n",
    "print(boston.shape)\n",
    "print()\n",
    "print(boston.columns)\n",
    "print()\n",
    "\n",
    "#quick look at the DataFrame\n",
    "print(boston.head())\n"
   ]
  },
  {
   "cell_type": "code",
   "execution_count": 10,
   "id": "4bd798f4",
   "metadata": {
    "scrolled": false
   },
   "outputs": [
    {
     "name": "stdout",
     "output_type": "stream",
     "text": [
      "         CRIM      ZN   INDUS    CHAS     NOX      RM     AGE     DIS     RAD     TAX  PTRATIO       B   LSTAT    MEDV\n",
      "count  506.00  506.00  506.00  506.00  506.00  506.00  506.00  506.00  506.00  506.00   506.00  506.00  506.00  506.00\n",
      "mean     3.61   11.36   11.14    0.07    0.55    6.28   68.57    3.80    9.55  408.24    18.46  356.67   12.65   22.53\n",
      "std      8.60   23.32    6.86    0.25    0.12    0.70   28.15    2.11    8.71  168.54     2.16   91.29    7.14    9.20\n",
      "min      0.01    0.00    0.46    0.00    0.38    3.56    2.90    1.13    1.00  187.00    12.60    0.32    1.73    5.00\n",
      "25%      0.08    0.00    5.19    0.00    0.45    5.89   45.02    2.10    4.00  279.00    17.40  375.38    6.95   17.02\n",
      "50%      0.26    0.00    9.69    0.00    0.54    6.21   77.50    3.21    5.00  330.00    19.05  391.44   11.36   21.20\n",
      "75%      3.68   12.50   18.10    0.00    0.62    6.62   94.07    5.19   24.00  666.00    20.20  396.22   16.96   25.00\n",
      "max     88.98  100.00   27.74    1.00    0.87    8.78  100.00   12.13   24.00  711.00    22.00  396.90   37.97   50.00\n",
      "\n",
      "count    506.000000\n",
      "mean      12.653063\n",
      "std        7.141062\n",
      "min        1.730000\n",
      "25%        6.950000\n",
      "50%       11.360000\n",
      "75%       16.955000\n",
      "max       37.970000\n",
      "Name: LSTAT, dtype: float64\n"
     ]
    }
   ],
   "source": [
    "#summary statistics\n",
    "print(boston.describe().round(2))\n",
    "print()\n",
    "print(boston['LSTAT'].describe())\n"
   ]
  },
  {
   "cell_type": "code",
   "execution_count": 11,
   "id": "00c0fe31",
   "metadata": {},
   "outputs": [
    {
     "name": "stdout",
     "output_type": "stream",
     "text": [
      "         CRIM    ZN  INDUS  CHAS   NOX    RM   AGE   DIS   RAD   TAX  PTRATIO     B  LSTAT  MEDV\n",
      "CRIM     1.00 -0.20   0.41 -0.06  0.42 -0.22  0.35 -0.38  0.63  0.58     0.29 -0.39   0.46 -0.39\n",
      "ZN      -0.20  1.00  -0.53 -0.04 -0.52  0.31 -0.57  0.66 -0.31 -0.31    -0.39  0.18  -0.41  0.36\n",
      "INDUS    0.41 -0.53   1.00  0.06  0.76 -0.39  0.64 -0.71  0.60  0.72     0.38 -0.36   0.60 -0.48\n",
      "CHAS    -0.06 -0.04   0.06  1.00  0.09  0.09  0.09 -0.10 -0.01 -0.04    -0.12  0.05  -0.05  0.18\n",
      "NOX      0.42 -0.52   0.76  0.09  1.00 -0.30  0.73 -0.77  0.61  0.67     0.19 -0.38   0.59 -0.43\n",
      "RM      -0.22  0.31  -0.39  0.09 -0.30  1.00 -0.24  0.21 -0.21 -0.29    -0.36  0.13  -0.61  0.70\n",
      "AGE      0.35 -0.57   0.64  0.09  0.73 -0.24  1.00 -0.75  0.46  0.51     0.26 -0.27   0.60 -0.38\n",
      "DIS     -0.38  0.66  -0.71 -0.10 -0.77  0.21 -0.75  1.00 -0.49 -0.53    -0.23  0.29  -0.50  0.25\n",
      "RAD      0.63 -0.31   0.60 -0.01  0.61 -0.21  0.46 -0.49  1.00  0.91     0.46 -0.44   0.49 -0.38\n",
      "TAX      0.58 -0.31   0.72 -0.04  0.67 -0.29  0.51 -0.53  0.91  1.00     0.46 -0.44   0.54 -0.47\n",
      "PTRATIO  0.29 -0.39   0.38 -0.12  0.19 -0.36  0.26 -0.23  0.46  0.46     1.00 -0.18   0.37 -0.51\n",
      "B       -0.39  0.18  -0.36  0.05 -0.38  0.13 -0.27  0.29 -0.44 -0.44    -0.18  1.00  -0.37  0.33\n",
      "LSTAT    0.46 -0.41   0.60 -0.05  0.59 -0.61  0.60 -0.50  0.49  0.54     0.37 -0.37   1.00 -0.74\n",
      "MEDV    -0.39  0.36  -0.48  0.18 -0.43  0.70 -0.38  0.25 -0.38 -0.47    -0.51  0.33  -0.74  1.00\n"
     ]
    }
   ],
   "source": [
    "#correlation matrix\n",
    "corr_matrix = boston.corr().round(2)\n",
    "print(corr_matrix)\n"
   ]
  },
  {
   "cell_type": "code",
   "execution_count": 12,
   "id": "a86f7ff5",
   "metadata": {},
   "outputs": [
    {
     "name": "stdout",
     "output_type": "stream",
     "text": [
      "(506,)\n",
      "(506, 1)\n"
     ]
    }
   ],
   "source": [
    "#data preperation - feature selection\n",
    "#remember, y = MX + B, equation of a staight line for linear regression\n",
    "#in sci-kitlearn models, Y (target variable) must be a 1d array, X (features) must be a 2d array\n",
    "\n",
    "y = boston['MEDV'] #single bracket outputs Panda Series, thus 1d (lowercase by convention)\n",
    "X = boston[['RM']] #double brackets outputs Panda DataFrame, thus 2d \n",
    "\n",
    "print(y.shape)\n",
    "print(X.shape)\n"
   ]
  },
  {
   "cell_type": "code",
   "execution_count": 13,
   "id": "dbe1eb10",
   "metadata": {},
   "outputs": [
    {
     "name": "stdout",
     "output_type": "stream",
     "text": [
      "(354, 1)\n",
      "(354,)\n",
      "\n",
      "(152, 1)\n",
      "(152,)\n"
     ]
    }
   ],
   "source": [
    "#workflow: import -> instantiate -> fit -> predict\n",
    "\n",
    "##import linear regression class\n",
    "from sklearn.linear_model import LinearRegression\n",
    "\n",
    "##instantiate model\n",
    "model = LinearRegression()\n",
    "\n",
    "#split data into training and testing sets\n",
    "from sklearn.model_selection import train_test_split\n",
    "\n",
    "X_train, X_test, y_train, y_test = train_test_split(X, y, #split data randomly into two subsets, train and test\n",
    "  test_size = 0.3, #rule of thumb: 70% of data for training, 30% for testing\n",
    "  random_state = 42) #\"holds\" the shuffle used. If train_test_split is run again with random_state = 42, same shuffle. if random_state = different number, different shuffle.\n",
    "\n",
    "#70% in training set  \n",
    "print(X_train.shape)\n",
    "print(y_train.shape)\n",
    "print()\n",
    "#30% in testing set\n",
    "print(X_test.shape)\n",
    "print(y_test.shape)\n"
   ]
  },
  {
   "cell_type": "code",
   "execution_count": 15,
   "id": "4dc05df5",
   "metadata": {},
   "outputs": [
    {
     "name": "stdout",
     "output_type": "stream",
     "text": [
      "[9.12]\n",
      "-34.66\n"
     ]
    }
   ],
   "source": [
    "##fit (fitting == training. The algorithm learns relationship between X_train and y_train) \n",
    "#fits the model to the training data and finds the coefficients specified in the linear regression model: slope(M) and intercept (B)\n",
    "model.fit(X_train, y_train)\n",
    "\n",
    "#output the slope (also called coefficient)\n",
    "print(model.coef_.round(2))\n",
    "#output the intercept\n",
    "print(model.intercept_.round(2))\n"
   ]
  },
  {
   "cell_type": "code",
   "execution_count": 16,
   "id": "3dad459c",
   "metadata": {},
   "outputs": [
    {
     "name": "stdout",
     "output_type": "stream",
     "text": [
      "[24.60535684]\n",
      "[24.60535684]\n",
      "\n",
      "(152,)\n",
      "\n",
      "173    23.6\n",
      "274    32.4\n",
      "491    13.6\n",
      "72     22.8\n",
      "452    16.1\n",
      "Name: MEDV, dtype: float64\n",
      "[23.8 27.  19.9 20.6 22.8]\n"
     ]
    }
   ],
   "source": [
    "##predict (evaluate test data based on previous predictions from training data)\n",
    "import numpy as np\n",
    "\n",
    "new_RM = np.array([6.5]).reshape(-1,1) # make sure it's 2d\n",
    "print(model.predict(new_RM))\n",
    "#plugging in y = MX + B  with the slope and intercept from the model gives the same answer!\n",
    "print(model.coef_ * 6.5 + model.intercept_)\n",
    "print()\n",
    "\n",
    "#feeding the test set to the model to get predictions for all the homes in it\n",
    "y_test_predicted = model.predict(X_test)\n",
    "print(y_test_predicted.shape) #1d array, same shape as y_test (y_test_predicted is a numpy array, y_test is a panda series)\n",
    "print()\n",
    "\n",
    "#comparing first five actual y_test MEDV values to y_test_predicted MEDV values\n",
    "print(y_test.head())\n",
    "print(y_test_predicted[0:5].round(1))\n"
   ]
  },
  {
   "cell_type": "code",
   "execution_count": 17,
   "id": "5cd64331",
   "metadata": {},
   "outputs": [
    {
     "name": "stdout",
     "output_type": "stream",
     "text": [
      "173   -0.2\n",
      "274    5.4\n",
      "491   -6.3\n",
      "72     2.2\n",
      "452   -6.7\n",
      "Name: MEDV, dtype: float64\n",
      "\n"
     ]
    }
   ],
   "source": [
    "##evaluating model performance \n",
    "\n",
    "#calculating residuals (difference between observed and predicted values)\n",
    "residuals = y_test - y_test_predicted\n",
    "\n",
    "#first 5 residuals in model\n",
    "print(residuals[:5].round(1))\n",
    "print()"
   ]
  },
  {
   "cell_type": "code",
   "execution_count": 19,
   "id": "eea0ffd7",
   "metadata": {},
   "outputs": [
    {
     "name": "stdout",
     "output_type": "stream",
     "text": [
      "40.35144969787305\n",
      "40.35144969787305\n"
     ]
    }
   ],
   "source": [
    "#want to report one number as aggregate of all residuals\n",
    "#residuals.mean() doesn't work because some are positive and some are negative, so they will cancel each other out.\n",
    "#therefore square the residuals first, then find the mean of the squares\n",
    "#This is called mean squared error (MSE)\n",
    "print((residuals**2).mean())\n",
    "#mean_squared_error() method under scikit-learn metrics module outputs same result\n",
    "from sklearn.metrics import mean_squared_error\n",
    "print(mean_squared_error(y_test, y_test_predicted))"
   ]
  },
  {
   "cell_type": "code",
   "execution_count": 20,
   "id": "40b7965e",
   "metadata": {},
   "outputs": [
    {
     "name": "stdout",
     "output_type": "stream",
     "text": [
      "6.352279094771659\n",
      "4.314224104076755\n"
     ]
    }
   ],
   "source": [
    "#to make the scale of errors the same as the scale of targets, root mean squared error (RMSE) is often used- it is the square root of MSE\n",
    "print((residuals**2).mean()**.5)\n",
    "#another measure of model error is mean absolute error (MAE). take the absolute values of the residuals then find the average\n",
    "print(abs(y_test-y_test_predicted). mean())\n"
   ]
  },
  {
   "cell_type": "code",
   "execution_count": 21,
   "id": "dc7f3cfc",
   "metadata": {},
   "outputs": [
    {
     "name": "stdout",
     "output_type": "stream",
     "text": [
      "0.4584649934303068\n"
     ]
    }
   ],
   "source": [
    "#another measure of model performance is called R-squared, proportion of total variation explained by model\n",
    "#can be calulated with model.score(), passing observed x and y values\n",
    "print(model.score(X_test, y_test)) # about 46%\n"
   ]
  },
  {
   "cell_type": "code",
   "execution_count": 23,
   "id": "c303da0e",
   "metadata": {},
   "outputs": [
    {
     "name": "stdout",
     "output_type": "stream",
     "text": [
      "11325.990526315789\n",
      "6133.420354076704\n",
      "5192.570172239085\n",
      "0.4584649934303068\n"
     ]
    }
   ],
   "source": [
    "#how R-squared is calculated\"\n",
    "\n",
    "#total variation is the sum of squares of the difference between the response and the mean of response\n",
    "print(((y_test-y_test.mean())**2).sum())\n",
    "#variation that the model fails to capture is the sum of squares of residuals\n",
    "print((residuals**2).sum())\n",
    "#variation that the model does capture is the difference between the total variation and the variation the model fails to capture\n",
    "print(11325.990526315789 - 6133.420354076704)\n",
    "#proportion of total variation that model does capture is the R-squared!\n",
    "print(5192.570172239085 / 11325.990526315789)\n",
    "\n",
    "# code and comments by github.com/alandavidgrunberg\n"
   ]
  }
 ],
 "metadata": {
  "kernelspec": {
   "display_name": "Python 3 (ipykernel)",
   "language": "python",
   "name": "python3"
  },
  "language_info": {
   "codemirror_mode": {
    "name": "ipython",
    "version": 3
   },
   "file_extension": ".py",
   "mimetype": "text/x-python",
   "name": "python",
   "nbconvert_exporter": "python",
   "pygments_lexer": "ipython3",
   "version": "3.8.12"
  },
  "toc": {
   "base_numbering": 1,
   "nav_menu": {},
   "number_sections": true,
   "sideBar": true,
   "skip_h1_title": false,
   "title_cell": "Table of Contents",
   "title_sidebar": "Contents",
   "toc_cell": false,
   "toc_position": {},
   "toc_section_display": true,
   "toc_window_display": false
  }
 },
 "nbformat": 4,
 "nbformat_minor": 5
}
