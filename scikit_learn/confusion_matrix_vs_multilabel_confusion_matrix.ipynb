{
 "cells": [
  {
   "cell_type": "code",
   "execution_count": 1,
   "id": "0b0e0658",
   "metadata": {},
   "outputs": [],
   "source": [
    "import pandas as pd\n",
    "\n",
    "iris = pd.read_csv('https://sololearn.com/uploads/files/iris.csv')\n",
    "\n",
    "X = iris[['petal_len', 'petal_wd']]\n",
    "y = iris['species']\n",
    "\n",
    "from sklearn.neighbors import KNeighborsClassifier\n",
    "knn = KNeighborsClassifier(n_neighbors=3)\n",
    "\n",
    "knn.fit(X,y)\n",
    "\n",
    "pred = knn.predict(X)"
   ]
  },
  {
   "cell_type": "code",
   "execution_count": 2,
   "id": "7eecaa62",
   "metadata": {},
   "outputs": [
    {
     "name": "stdout",
     "output_type": "stream",
     "text": [
      "[[50  0  0]\n",
      " [ 0 49  1]\n",
      " [ 0  2 48]]\n",
      "\n",
      "\n"
     ]
    }
   ],
   "source": [
    "# confusion matrix\n",
    "\n",
    "from sklearn.metrics import confusion_matrix \n",
    "print(confusion_matrix(y, pred)) \n",
    "print()\n",
    "print()\n",
    "\n",
    "# 50 setosa correctly labeled, none mislabled\n",
    "# 49 versicolor correctly labled, 1 mislabled as virginica\n",
    "# 48 virginica correctly labled, 2 mislabled as versicolor\n",
    "\n",
    "# tells us about confusion between classes, but can't tell us about true positives, true negatives, false positives, false negatives, because it does't know which class to pick as the positive class.\n"
   ]
  },
  {
   "cell_type": "code",
   "execution_count": 3,
   "id": "07ad0bb4",
   "metadata": {},
   "outputs": [
    {
     "name": "stdout",
     "output_type": "stream",
     "text": [
      "[[[100   0]\n",
      "  [  0  50]]\n",
      "\n",
      " [[ 98   2]\n",
      "  [  1  49]]\n",
      "\n",
      " [[ 99   1]\n",
      "  [  2  48]]]\n"
     ]
    }
   ],
   "source": [
    "# multilabel confusion matrix\n",
    "\n",
    "from sklearn.metrics import multilabel_confusion_matrix \n",
    "print(multilabel_confusion_matrix(y, pred)) \n",
    "\n",
    "# confusion matrix created for each class, binarized one versus rest transformation\n",
    "\n",
    "#     (true -)(false +)\n",
    "#     (false -)(true +)\n",
    "\n",
    "# setosa as positive class\n",
    "# 50 setosa correctly labled setosa (true +)\n",
    "# 100 not-setosa correctly labled not-setosa (true -)\n",
    "\n",
    "\n",
    "#versicolor as positive class\n",
    "# 49 versicolor correctly labled versicolor (true +)\n",
    "# 98 not-versicolor correctly labled not-versicolor (true -)\n",
    "# 2 not-versicolor incorrectly labled versicolor (false +)\n",
    "# 1 versicolor incorrectly labled not-versicolor (false -)\n",
    "\n",
    "#virginica as positive class\n",
    "# 48 virginica correctly labled virginica (true +)\n",
    "# 99 not-virginica correctly labled not-virginica (true -)\n",
    "# 1 not-virginica incorrecly labled virginica (false +)\n",
    "# 2 virginica incorrectly labled not-virginica (false -)\n",
    "\n",
    "# code and comments by github.com/alandavidgrunberg"
   ]
  }
 ],
 "metadata": {
  "kernelspec": {
   "display_name": "Python 3 (ipykernel)",
   "language": "python",
   "name": "python3"
  },
  "language_info": {
   "codemirror_mode": {
    "name": "ipython",
    "version": 3
   },
   "file_extension": ".py",
   "mimetype": "text/x-python",
   "name": "python",
   "nbconvert_exporter": "python",
   "pygments_lexer": "ipython3",
   "version": "3.8.12"
  },
  "toc": {
   "base_numbering": 1,
   "nav_menu": {},
   "number_sections": true,
   "sideBar": true,
   "skip_h1_title": false,
   "title_cell": "Table of Contents",
   "title_sidebar": "Contents",
   "toc_cell": false,
   "toc_position": {},
   "toc_section_display": true,
   "toc_window_display": false
  }
 },
 "nbformat": 4,
 "nbformat_minor": 5
}
