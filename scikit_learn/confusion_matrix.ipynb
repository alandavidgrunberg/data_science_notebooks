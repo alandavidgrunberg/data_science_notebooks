{
 "cells": [
  {
   "cell_type": "code",
   "execution_count": 1,
   "id": "92af36d7",
   "metadata": {},
   "outputs": [
    {
     "name": "stdout",
     "output_type": "stream",
     "text": [
      "[[475  70]\n",
      " [103 239]]\n",
      "\n"
     ]
    }
   ],
   "source": [
    "import matplotlib.pyplot as plt\n",
    "import pandas as pd\n",
    "from sklearn.linear_model import LogisticRegression \n",
    "from sklearn.metrics import confusion_matrix\n",
    "\n",
    "df = pd.read_csv('https://sololearn.com/uploads/files/titanic.csv')\n",
    "df['Male'] = df['Sex'] == 'male' \n",
    "\n",
    "X = df[['Pclass', 'Male', 'Age', 'Siblings/Spouses', 'Parents/Children', 'Fare']].values\n",
    "y = df['Survived'].values\n",
    "\n",
    "model = LogisticRegression()\n",
    "model.fit(X, y)\n",
    "y_pred = model.predict(X)\n",
    "\n",
    "# TP = True Positive \n",
    "# FP = False Positive\n",
    "# TN = True Negative\n",
    "# FN = False Negative\n",
    "\n",
    "print(confusion_matrix(y, y_pred)) # output confusion matrix, actual targets 'y' passed first, predicted targets 'y_pred' passed second \n",
    "print()\n",
    "\n",
    "# Scikit-learn convention for confusion matrix is to show predicted labels along columns, actual labels along rows. Scikit-learn convention considers 0 to be negative class and 1 to be positive class.\n",
    "# Order of 0 and 1 in confusion matrix depends on which appears first in your dataset/target values. In our dataset/target values 0 appears first, so 0 is first row and column in our confusion matrix.\n",
    "\n",
    "# Therefore, the confusion matrix shows:\n",
    "\n",
    "#      A 0     TN | FP\n",
    "#      c       ___|___\n",
    "#      t          |\n",
    "#      u 1     FN | TP  \n",
    "#      a       \n",
    "#      l       0     1\n",
    "#          P r e d i c t e d"
   ]
  },
  {
   "cell_type": "code",
   "execution_count": 2,
   "id": "5b99a830",
   "metadata": {},
   "outputs": [
    {
     "name": "stdout",
     "output_type": "stream",
     "text": [
      "[[239 103]\n",
      " [ 70 475]]\n",
      "\n"
     ]
    }
   ],
   "source": [
    "# Automatic ordering of 0 and 1 in confusion matrix can be overrided and set with 'labels='\n",
    "# lets make 1 appear first with 'labels=[1,0]'\n",
    "print(confusion_matrix(y, y_pred, labels = [1,0]))\n",
    "print()\n",
    "\n",
    "# Now, the confusion matrix shows:\n",
    "\n",
    "#      A 1     TP | FN\n",
    "#      c       ___|___\n",
    "#      t          |\n",
    "#      u 0     FP | TN  \n",
    "#      a      \n",
    "#      l       1     0 \n",
    "#          P r e d i c t e d"
   ]
  },
  {
   "cell_type": "code",
   "execution_count": 3,
   "id": "e9ef1e23",
   "metadata": {},
   "outputs": [
    {
     "name": "stdout",
     "output_type": "stream",
     "text": [
      "[[239  70]\n",
      " [103 475]]\n"
     ]
    }
   ],
   "source": [
    "# To flip matrix so predicted labels along rows, actual labels along columns, we must pass predicted targets first, actual targets second\n",
    "print(confusion_matrix(y_pred, y, labels = [1,0])) # 'y_pred' passed first, 'y' passed second\n",
    "\n",
    "# Now, the confusion matrix shows:\n",
    "\n",
    "#      P \n",
    "#      r\n",
    "#      e 1     TP | FP       \n",
    "#      d       ___|___  \n",
    "#      i          |     \n",
    "#      c 0     FN | TN          \n",
    "#      t   \n",
    "#      e\n",
    "#      d       1     0\n",
    "#            A c t u a l\n",
    "\n",
    "# code and comments by github.com/alandavidgrunberg\n"
   ]
  }
 ],
 "metadata": {
  "kernelspec": {
   "display_name": "Python 3 (ipykernel)",
   "language": "python",
   "name": "python3"
  },
  "language_info": {
   "codemirror_mode": {
    "name": "ipython",
    "version": 3
   },
   "file_extension": ".py",
   "mimetype": "text/x-python",
   "name": "python",
   "nbconvert_exporter": "python",
   "pygments_lexer": "ipython3",
   "version": "3.8.12"
  },
  "toc": {
   "base_numbering": 1,
   "nav_menu": {},
   "number_sections": true,
   "sideBar": true,
   "skip_h1_title": false,
   "title_cell": "Table of Contents",
   "title_sidebar": "Contents",
   "toc_cell": false,
   "toc_position": {},
   "toc_section_display": true,
   "toc_window_display": false
  }
 },
 "nbformat": 4,
 "nbformat_minor": 5
}
