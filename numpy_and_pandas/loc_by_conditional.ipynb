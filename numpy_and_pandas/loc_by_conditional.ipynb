{
 "cells": [
  {
   "cell_type": "code",
   "execution_count": 1,
   "id": "bdf4d929",
   "metadata": {},
   "outputs": [
    {
     "name": "stdout",
     "output_type": "stream",
     "text": [
      "                   order  age  height                  party\n",
      "name                                                        \n",
      "James Monroe           5   58     183  democratic-republican\n",
      "John Tyler            10   51     183                   whig\n",
      "James Buchanan        15   65     183             democratic\n",
      "James A. Garfield     20   49     183             republican\n",
      "Chester A. Arthur     21   51     183             republican\n",
      "Warren G. Harding     29   55     183             republican\n",
      "John F. Kennedy       35   43     183             democratic\n",
      "Gerald Ford           38   61     183             republican\n",
      "\n",
      "                        order  age  height party\n",
      "name                                            \n",
      "William Henry Harrison      9   68     173  whig\n",
      "John Tyler                 10   51     183  whig\n",
      "Zachary Taylor             12   64     173  whig\n",
      "Millard Fillmore           13   50     175  whig\n",
      "\n",
      "            order  age  height party\n",
      "name                                \n",
      "John Tyler     10   51     183  whig\n"
     ]
    }
   ],
   "source": [
    "import pandas as pd\n",
    "\n",
    "df = pd.read_csv('https://sololearn.com/uploads/files/president_heights_party.csv', index_col='name')\n",
    " \n",
    "a = df.loc[df['height'] == 183]\n",
    "b = df.loc[df['party'] == 'whig']\n",
    "c = df.loc[(df['height'] == 183) & (df['party'] == 'whig')]\n",
    "\n",
    "print(a)\n",
    "print()\n",
    "print(b)\n",
    "print()\n",
    "print(c)\n",
    "\n",
    "# code by github.com/alandavidgrunberg"
   ]
  }
 ],
 "metadata": {
  "kernelspec": {
   "display_name": "Python 3 (ipykernel)",
   "language": "python",
   "name": "python3"
  },
  "language_info": {
   "codemirror_mode": {
    "name": "ipython",
    "version": 3
   },
   "file_extension": ".py",
   "mimetype": "text/x-python",
   "name": "python",
   "nbconvert_exporter": "python",
   "pygments_lexer": "ipython3",
   "version": "3.8.12"
  },
  "toc": {
   "base_numbering": 1,
   "nav_menu": {},
   "number_sections": true,
   "sideBar": true,
   "skip_h1_title": false,
   "title_cell": "Table of Contents",
   "title_sidebar": "Contents",
   "toc_cell": false,
   "toc_position": {},
   "toc_section_display": true,
   "toc_window_display": false
  }
 },
 "nbformat": 4,
 "nbformat_minor": 5
}
