{
 "cells": [
  {
   "cell_type": "code",
   "execution_count": 6,
   "id": "8e56aeea",
   "metadata": {},
   "outputs": [
    {
     "name": "stdout",
     "output_type": "stream",
     "text": [
      "[[ 1  2  3]\n",
      " [ 1  9  5]\n",
      " [-1 -2 -3]]\n"
     ]
    }
   ],
   "source": [
    "import numpy as np\n",
    "\n",
    "x = np.array([[1,2,3], [1,9,5], [-1,-2,-3]])\n",
    "\n",
    "#     1  2  3\n",
    "#     1  9  5\n",
    "#    -1 -2 -3\n",
    "\n",
    "print(x)"
   ]
  },
  {
   "cell_type": "code",
   "execution_count": 7,
   "id": "54fb0c40",
   "metadata": {},
   "outputs": [
    {
     "name": "stdout",
     "output_type": "stream",
     "text": [
      "[[ 1.  2. -1.]\n",
      " [ 2. 16. -2.]\n",
      " [-1. -2.  1.]]\n"
     ]
    }
   ],
   "source": [
    "print(np.cov(x)) #covariance\n",
    "# unbounded \n",
    "# postive number means variables increase in same direction\n",
    "# negative number means variables change in opposite direction\n",
    "# 0 means totally unrelated"
   ]
  },
  {
   "cell_type": "code",
   "execution_count": 8,
   "id": "4aa4d62c",
   "metadata": {},
   "outputs": [
    {
     "name": "stdout",
     "output_type": "stream",
     "text": [
      "[[ 1.   0.5 -1. ]\n",
      " [ 0.5  1.  -0.5]\n",
      " [-1.  -0.5  1. ]]\n"
     ]
    }
   ],
   "source": [
    "print(np.corrcoef(x)) #correlation coefficient\n",
    "# normalized version of coveriance\n",
    "# between -1 and 1\n",
    "# 1 means perfectly positively related, \n",
    "# -1 means perfectly negatively related\n",
    "# 0 means totally unrelated\n",
    "\n",
    "# code and comments by github.com/alandavidgrunberg"
   ]
  }
 ],
 "metadata": {
  "kernelspec": {
   "display_name": "Python 3 (ipykernel)",
   "language": "python",
   "name": "python3"
  },
  "language_info": {
   "codemirror_mode": {
    "name": "ipython",
    "version": 3
   },
   "file_extension": ".py",
   "mimetype": "text/x-python",
   "name": "python",
   "nbconvert_exporter": "python",
   "pygments_lexer": "ipython3",
   "version": "3.8.12"
  },
  "toc": {
   "base_numbering": 1,
   "nav_menu": {},
   "number_sections": true,
   "sideBar": true,
   "skip_h1_title": false,
   "title_cell": "Table of Contents",
   "title_sidebar": "Contents",
   "toc_cell": false,
   "toc_position": {},
   "toc_section_display": true,
   "toc_window_display": false
  }
 },
 "nbformat": 4,
 "nbformat_minor": 5
}
