{
 "cells": [
  {
   "cell_type": "code",
   "execution_count": 2,
   "id": "2649ee5f",
   "metadata": {},
   "outputs": [
    {
     "name": "stdout",
     "output_type": "stream",
     "text": [
      "                      order                                                  \\\n",
      "                      count       mean        std   min    25%   50%    75%   \n",
      "party                                                                         \n",
      "democratic             15.0  26.066667  12.566774   7.0  14.50  28.0  35.50   \n",
      "democratic-republican   4.0   4.500000   1.290994   3.0   3.75   4.5   5.25   \n",
      "federalist              1.0   2.000000        NaN   2.0   2.00   2.0   2.00   \n",
      "national union          1.0  17.000000        NaN  17.0  17.00  17.0  17.00   \n",
      "none                    1.0   1.000000        NaN   1.0   1.00   1.0   1.00   \n",
      "republican             19.0  29.631579   9.081180  16.0  22.00  29.0  37.50   \n",
      "whig                    4.0  11.000000   1.825742   9.0   9.75  11.0  12.25   \n",
      "\n",
      "                              age             ...              height  \\\n",
      "                        max count       mean  ...    75%   max  count   \n",
      "party                                         ...                       \n",
      "democratic             44.0  15.0  52.600000  ...  55.50  65.0   15.0   \n",
      "democratic-republican   6.0   4.0  57.250000  ...  57.25  58.0    4.0   \n",
      "federalist              2.0   1.0  61.000000  ...  61.00  61.0    1.0   \n",
      "national union         17.0   1.0  56.000000  ...  56.00  56.0    1.0   \n",
      "none                    1.0   1.0  57.000000  ...  57.00  57.0    1.0   \n",
      "republican             45.0  19.0  55.263158  ...  58.50  70.0   19.0   \n",
      "whig                   13.0   4.0  58.250000  ...  65.00  68.0    4.0   \n",
      "\n",
      "                                                                          \\\n",
      "                             mean        std    min    25%    50%    75%   \n",
      "party                                                                      \n",
      "democratic             181.066667   6.430582  168.0  177.5  180.0  185.0   \n",
      "democratic-republican  176.500000  11.704700  163.0  169.0  177.0  184.5   \n",
      "federalist             170.000000        NaN  170.0  170.0  170.0  170.0   \n",
      "national union         178.000000        NaN  178.0  178.0  178.0  178.0   \n",
      "none                   189.000000        NaN  189.0  189.0  189.0  189.0   \n",
      "republican             180.894737   6.471259  168.0  178.0  182.0  183.0   \n",
      "whig                   176.000000   4.760952  173.0  173.0  174.0  177.0   \n",
      "\n",
      "                              \n",
      "                         max  \n",
      "party                         \n",
      "democratic             193.0  \n",
      "democratic-republican  189.0  \n",
      "federalist             170.0  \n",
      "national union         178.0  \n",
      "none                   189.0  \n",
      "republican             193.0  \n",
      "whig                   183.0  \n",
      "\n",
      "[7 rows x 24 columns]\n",
      "\n",
      "(7, 24)\n",
      "\n"
     ]
    }
   ],
   "source": [
    "import pandas as pd\n",
    "import numpy as np\n",
    "presidents_df = pd.read_csv('https://sololearn.com/uploads/files/president_heights_party.csv', index_col='name')\n",
    "\n",
    "print(presidents_df.groupby('party').describe())\n",
    "print()\n",
    "print(presidents_df.groupby('party').describe().shape)\n",
    "print()"
   ]
  },
  {
   "cell_type": "code",
   "execution_count": 3,
   "id": "71270154",
   "metadata": {},
   "outputs": [
    {
     "name": "stdout",
     "output_type": "stream",
     "text": [
      "                       count        mean        std    min    25%    50%  \\\n",
      "party                                                                      \n",
      "democratic              15.0  181.066667   6.430582  168.0  177.5  180.0   \n",
      "democratic-republican    4.0  176.500000  11.704700  163.0  169.0  177.0   \n",
      "federalist               1.0  170.000000        NaN  170.0  170.0  170.0   \n",
      "national union           1.0  178.000000        NaN  178.0  178.0  178.0   \n",
      "none                     1.0  189.000000        NaN  189.0  189.0  189.0   \n",
      "republican              19.0  180.894737   6.471259  168.0  178.0  182.0   \n",
      "whig                     4.0  176.000000   4.760952  173.0  173.0  174.0   \n",
      "\n",
      "                         75%    max  \n",
      "party                                \n",
      "democratic             185.0  193.0  \n",
      "democratic-republican  184.5  189.0  \n",
      "federalist             170.0  170.0  \n",
      "national union         178.0  178.0  \n",
      "none                   189.0  189.0  \n",
      "republican             183.0  193.0  \n",
      "whig                   177.0  183.0  \n",
      "\n",
      "(7, 8)\n",
      "\n"
     ]
    }
   ],
   "source": [
    "print(presidents_df.groupby('party')['height'].describe())\n",
    "print()\n",
    "print(presidents_df.groupby('party')['height'].describe().shape)\n",
    "print()"
   ]
  },
  {
   "cell_type": "code",
   "execution_count": 4,
   "id": "f6cd19bf",
   "metadata": {},
   "outputs": [
    {
     "name": "stdout",
     "output_type": "stream",
     "text": [
      "                      height                                              \\\n",
      "                       count        mean        std    min    25%    50%   \n",
      "party                                                                      \n",
      "democratic              15.0  181.066667   6.430582  168.0  177.5  180.0   \n",
      "democratic-republican    4.0  176.500000  11.704700  163.0  169.0  177.0   \n",
      "federalist               1.0  170.000000        NaN  170.0  170.0  170.0   \n",
      "national union           1.0  178.000000        NaN  178.0  178.0  178.0   \n",
      "none                     1.0  189.000000        NaN  189.0  189.0  189.0   \n",
      "republican              19.0  180.894737   6.471259  168.0  178.0  182.0   \n",
      "whig                     4.0  176.000000   4.760952  173.0  173.0  174.0   \n",
      "\n",
      "                                      age                                    \\\n",
      "                         75%    max count       mean       std   min    25%   \n",
      "party                                                                         \n",
      "democratic             185.0  193.0  15.0  52.600000  6.208289  43.0  47.50   \n",
      "democratic-republican  184.5  189.0   4.0  57.250000  0.500000  57.0  57.00   \n",
      "federalist             170.0  170.0   1.0  61.000000       NaN  61.0  61.00   \n",
      "national union         178.0  178.0   1.0  56.000000       NaN  56.0  56.00   \n",
      "none                   189.0  189.0   1.0  57.000000       NaN  57.0  57.00   \n",
      "republican             183.0  193.0  19.0  55.263158  7.202176  42.0  51.00   \n",
      "whig                   177.0  183.0   4.0  58.250000  9.105859  50.0  50.75   \n",
      "\n",
      "                                          \n",
      "                        50%    75%   max  \n",
      "party                                     \n",
      "democratic             52.0  55.50  65.0  \n",
      "democratic-republican  57.0  57.25  58.0  \n",
      "federalist             61.0  61.00  61.0  \n",
      "national union         56.0  56.00  56.0  \n",
      "none                   57.0  57.00  57.0  \n",
      "republican             54.0  58.50  70.0  \n",
      "whig                   57.5  65.00  68.0  \n",
      "\n",
      "(7, 16)\n",
      "\n"
     ]
    }
   ],
   "source": [
    "print(presidents_df.groupby('party')[['height','age']].describe())\n",
    "print()\n",
    "print(presidents_df.groupby('party')[['height','age']].describe().shape)\n",
    "print()"
   ]
  },
  {
   "cell_type": "code",
   "execution_count": 5,
   "id": "0879ae95",
   "metadata": {},
   "outputs": [
    {
     "name": "stdout",
     "output_type": "stream",
     "text": [
      "party\n",
      "democratic               180.0\n",
      "democratic-republican    177.0\n",
      "federalist               170.0\n",
      "national union           178.0\n",
      "none                     189.0\n",
      "republican               182.0\n",
      "whig                     174.0\n",
      "Name: height, dtype: float64\n",
      "\n",
      "(7,)\n",
      "\n"
     ]
    }
   ],
   "source": [
    "print(presidents_df.groupby('party')['height'].median())\n",
    "print() \n",
    "print(presidents_df.groupby('party')['height'].median().shape)\n",
    "print() "
   ]
  },
  {
   "cell_type": "code",
   "execution_count": 6,
   "id": "d572aa99",
   "metadata": {},
   "outputs": [
    {
     "name": "stdout",
     "output_type": "stream",
     "text": [
      "                       min  median  max\n",
      "party                                  \n",
      "democratic             168   180.0  193\n",
      "democratic-republican  163   177.0  189\n",
      "federalist             170   170.0  170\n",
      "national union         178   178.0  178\n",
      "none                   189   189.0  189\n",
      "republican             168   182.0  193\n",
      "whig                   173   174.0  183\n",
      "\n",
      "(7, 3)\n",
      "\n"
     ]
    }
   ],
   "source": [
    "print(presidents_df.groupby('party')['height'].agg([min, 'median', max]))\n",
    "print()\n",
    "print(presidents_df.groupby('party')['height'].agg([min, 'median', max]).shape)\n",
    "print()"
   ]
  },
  {
   "cell_type": "code",
   "execution_count": 7,
   "id": "8192f455",
   "metadata": {},
   "outputs": [
    {
     "name": "stdout",
     "output_type": "stream",
     "text": [
      "                      height             age    \n",
      "                      median        mean min max\n",
      "party                                           \n",
      "democratic             180.0  181.066667  43  65\n",
      "democratic-republican  177.0  176.500000  57  58\n",
      "federalist             170.0  170.000000  61  61\n",
      "national union         178.0  178.000000  56  56\n",
      "none                   189.0  189.000000  57  57\n",
      "republican             182.0  180.894737  42  70\n",
      "whig                   174.0  176.000000  50  68\n",
      "\n",
      "(7, 4)\n",
      "\n"
     ]
    }
   ],
   "source": [
    "print(presidents_df.groupby('party').agg({'height': ['median', 'mean'], 'age': [min, max]}))\n",
    "print()\n",
    "print(presidents_df.groupby('party').agg({'height': ['median', 'mean'], 'age': [min, max]}).shape)\n",
    "print()\n"
   ]
  },
  {
   "cell_type": "code",
   "execution_count": 8,
   "id": "e19c94ee",
   "metadata": {},
   "outputs": [
    {
     "name": "stdout",
     "output_type": "stream",
     "text": [
      "                       median  max\n",
      "party                             \n",
      "democratic               52.0   65\n",
      "democratic-republican    57.0   58\n",
      "federalist               61.0   61\n",
      "national union           56.0   56\n",
      "none                     57.0   57\n",
      "republican               54.0   70\n",
      "whig                     57.5   68\n",
      "\n",
      "(7, 2)\n",
      "\n"
     ]
    }
   ],
   "source": [
    "print(presidents_df.groupby('party')['age'].agg([np.median, max]))\n",
    "print()\n",
    "print(presidents_df.groupby('party')['age'].agg([np.median, max]).shape)\n",
    "print()"
   ]
  },
  {
   "cell_type": "code",
   "execution_count": 9,
   "id": "3d10cf8d",
   "metadata": {},
   "outputs": [
    {
     "name": "stdout",
     "output_type": "stream",
     "text": [
      "                         age    \n",
      "                      median max\n",
      "party                           \n",
      "democratic              52.0  65\n",
      "democratic-republican   57.0  58\n",
      "federalist              61.0  61\n",
      "national union          56.0  56\n",
      "none                    57.0  57\n",
      "republican              54.0  70\n",
      "whig                    57.5  68\n",
      "\n",
      "(7, 2)\n"
     ]
    }
   ],
   "source": [
    "print(presidents_df.groupby('party').agg({'age':[np.median, max]}))\n",
    "print()\n",
    "print(presidents_df.groupby('party').agg({'age':[np.median, max]}).shape)\n",
    "\n",
    "# code by github.com/alandavidgrunberg"
   ]
  }
 ],
 "metadata": {
  "kernelspec": {
   "display_name": "Python 3 (ipykernel)",
   "language": "python",
   "name": "python3"
  },
  "language_info": {
   "codemirror_mode": {
    "name": "ipython",
    "version": 3
   },
   "file_extension": ".py",
   "mimetype": "text/x-python",
   "name": "python",
   "nbconvert_exporter": "python",
   "pygments_lexer": "ipython3",
   "version": "3.8.12"
  },
  "toc": {
   "base_numbering": 1,
   "nav_menu": {},
   "number_sections": true,
   "sideBar": true,
   "skip_h1_title": false,
   "title_cell": "Table of Contents",
   "title_sidebar": "Contents",
   "toc_cell": false,
   "toc_position": {},
   "toc_section_display": true,
   "toc_window_display": false
  }
 },
 "nbformat": 4,
 "nbformat_minor": 5
}
