{
 "cells": [
  {
   "cell_type": "code",
   "execution_count": 1,
   "id": "780019e2",
   "metadata": {},
   "outputs": [
    {
     "name": "stdout",
     "output_type": "stream",
     "text": [
      "[[1 2 3]\n",
      " [4 5 6]]\n",
      "\n",
      "[[  1  11 102]\n",
      " [  4  14 105]]\n",
      "\n",
      "[[ 1  2  3]\n",
      " [13 14 15]]\n"
     ]
    }
   ],
   "source": [
    "import numpy as np\n",
    "\n",
    "a = np.array([[0,1,2],[3,4,5]])\n",
    "#2x3\n",
    "\n",
    "b = np.array([1])\n",
    "#1x1\n",
    "c = np.array([1,10,100])\n",
    "#1x3\n",
    "d = np.array([[1],[10]])\n",
    "#2x1\n",
    "\n",
    "print(a+b)\n",
    "print(\"\")\n",
    "print(a+c)\n",
    "print(\"\")\n",
    "print(a+d)\n",
    "\n",
    "# code and comments by github.com/alandavidgrunberg"
   ]
  }
 ],
 "metadata": {
  "kernelspec": {
   "display_name": "Python 3 (ipykernel)",
   "language": "python",
   "name": "python3"
  },
  "language_info": {
   "codemirror_mode": {
    "name": "ipython",
    "version": 3
   },
   "file_extension": ".py",
   "mimetype": "text/x-python",
   "name": "python",
   "nbconvert_exporter": "python",
   "pygments_lexer": "ipython3",
   "version": "3.8.12"
  },
  "toc": {
   "base_numbering": 1,
   "nav_menu": {},
   "number_sections": true,
   "sideBar": true,
   "skip_h1_title": false,
   "title_cell": "Table of Contents",
   "title_sidebar": "Contents",
   "toc_cell": false,
   "toc_position": {},
   "toc_section_display": true,
   "toc_window_display": false
  }
 },
 "nbformat": 4,
 "nbformat_minor": 5
}
