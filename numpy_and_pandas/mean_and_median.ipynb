{
 "cells": [
  {
   "cell_type": "markdown",
   "id": "f566ad88",
   "metadata": {},
   "source": [
    "# mean via vanilla python vs. numpy"
   ]
  },
  {
   "cell_type": "code",
   "execution_count": 2,
   "id": "058275c6",
   "metadata": {},
   "outputs": [
    {
     "name": "stdout",
     "output_type": "stream",
     "text": [
      "party\n",
      "democratic               181.066667\n",
      "democratic-republican    176.500000\n",
      "federalist               170.000000\n",
      "national union           178.000000\n",
      "none                     189.000000\n",
      "republican               180.894737\n",
      "whig                     176.000000\n",
      "Name: height, dtype: float64\n",
      "\n",
      "(7,)\n",
      "\n",
      "                             mean\n",
      "party                            \n",
      "democratic             181.066667\n",
      "democratic-republican  176.500000\n",
      "federalist             170.000000\n",
      "national union         178.000000\n",
      "none                   189.000000\n",
      "republican             180.894737\n",
      "whig                   176.000000\n",
      "\n",
      "(7, 1)\n",
      "\n",
      "                             mean\n",
      "party                            \n",
      "democratic             181.066667\n",
      "democratic-republican  176.500000\n",
      "federalist             170.000000\n",
      "national union         178.000000\n",
      "none                   189.000000\n",
      "republican             180.894737\n",
      "whig                   176.000000\n",
      "\n",
      "(7, 1)\n",
      "\n"
     ]
    }
   ],
   "source": [
    "import pandas as pd\n",
    "import numpy as np\n",
    "\n",
    "presidents_df = pd.read_csv('https://sololearn.com/uploads/files/president_heights_party.csv', index_col='name')\n",
    "\n",
    "#.mean()\n",
    "print(presidents_df.groupby('party')['height'].mean())\n",
    "print() \n",
    "print(presidents_df.groupby('party')['height'].mean().shape)\n",
    "print() \n",
    "\n",
    "#'mean'\n",
    "print(presidents_df.groupby('party')['height'].agg(['mean']))\n",
    "print()\n",
    "print(presidents_df.groupby('party')['height'].agg(['mean']).shape)\n",
    "print()\n",
    "\n",
    "#np.mean\n",
    "print(presidents_df.groupby('party')['height'].agg([np.mean]))\n",
    "print()\n",
    "print(presidents_df.groupby('party')['height'].agg([np.mean]).shape)\n",
    "print()\n",
    "\n",
    "#mean \n",
    "#gives an error\n",
    "#print(presidents_df.groupby('party')['height'].agg([mean]))\n",
    "#print()\n",
    "#print(presidents_df.groupby('party')['height'].agg([mean]).shape)\n",
    "#print()"
   ]
  },
  {
   "cell_type": "markdown",
   "id": "d040f907",
   "metadata": {},
   "source": [
    "# median via vanilla python vs. numpy "
   ]
  },
  {
   "cell_type": "code",
   "execution_count": 3,
   "id": "0a4e432c",
   "metadata": {},
   "outputs": [
    {
     "name": "stdout",
     "output_type": "stream",
     "text": [
      "party\n",
      "democratic               180.0\n",
      "democratic-republican    177.0\n",
      "federalist               170.0\n",
      "national union           178.0\n",
      "none                     189.0\n",
      "republican               182.0\n",
      "whig                     174.0\n",
      "Name: height, dtype: float64\n",
      "\n",
      "(7,)\n",
      "\n",
      "                       median\n",
      "party                        \n",
      "democratic              180.0\n",
      "democratic-republican   177.0\n",
      "federalist              170.0\n",
      "national union          178.0\n",
      "none                    189.0\n",
      "republican              182.0\n",
      "whig                    174.0\n",
      "\n",
      "(7, 1)\n",
      "\n",
      "                       median\n",
      "party                        \n",
      "democratic              180.0\n",
      "democratic-republican   177.0\n",
      "federalist              170.0\n",
      "national union          178.0\n",
      "none                    189.0\n",
      "republican              182.0\n",
      "whig                    174.0\n",
      "\n",
      "(7, 1)\n",
      "\n"
     ]
    }
   ],
   "source": [
    "#.median()\n",
    "print(presidents_df.groupby('party')['height'].median())\n",
    "print() \n",
    "print(presidents_df.groupby('party')['height'].median().shape)\n",
    "print() \n",
    "\n",
    "#'median'\n",
    "print(presidents_df.groupby('party')['height'].agg(['median']))\n",
    "print()\n",
    "print(presidents_df.groupby('party')['height'].agg(['median']).shape)\n",
    "print()\n",
    "\n",
    "#mp.median\n",
    "print(presidents_df.groupby('party')['height'].agg([np.median]))\n",
    "print()\n",
    "print(presidents_df.groupby('party')['height'].agg([np.median]).shape)\n",
    "print()\n",
    "\n",
    "#median\n",
    "#gives an error\n",
    "#print(presidents_df.groupby('party')['height'].agg([median]))\n",
    "#print()\n",
    "#print(presidents_df.groupby('party')['height'].agg([median]).shape)\n",
    "#print()\n",
    "\n",
    "# code and comments by github.com/alandavidgrunberg"
   ]
  }
 ],
 "metadata": {
  "kernelspec": {
   "display_name": "Python 3 (ipykernel)",
   "language": "python",
   "name": "python3"
  },
  "language_info": {
   "codemirror_mode": {
    "name": "ipython",
    "version": 3
   },
   "file_extension": ".py",
   "mimetype": "text/x-python",
   "name": "python",
   "nbconvert_exporter": "python",
   "pygments_lexer": "ipython3",
   "version": "3.8.12"
  },
  "toc": {
   "base_numbering": 1,
   "nav_menu": {},
   "number_sections": true,
   "sideBar": true,
   "skip_h1_title": false,
   "title_cell": "Table of Contents",
   "title_sidebar": "Contents",
   "toc_cell": false,
   "toc_position": {},
   "toc_section_display": true,
   "toc_window_display": false
  }
 },
 "nbformat": 4,
 "nbformat_minor": 5
}
