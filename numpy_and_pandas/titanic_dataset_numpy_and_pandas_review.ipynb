{
 "cells": [
  {
   "cell_type": "code",
   "execution_count": 2,
   "id": "bdea5eef",
   "metadata": {},
   "outputs": [
    {
     "name": "stdout",
     "output_type": "stream",
     "text": [
      "mean: 23.0\n",
      "median: 22.0\n",
      "50th percentile (median): 22.0\n",
      "25th percentile: 18.0\n",
      "75th percentile: 29.0\n",
      "variance: 40.22222222222222\n",
      "standard deviation: 6.342099196813483\n",
      "\n"
     ]
    }
   ],
   "source": [
    "import numpy as np # NumPy stands for Numerical Python\n",
    "\n",
    "data = [15, 16, 18, 19, 22, 24, 29, 30, 34] # 9 data points\n",
    "\n",
    "print(\"mean:\", np.mean(data)) # sum / 9\n",
    "print(\"median:\", np.median(data)) # midpoint (5th position)\n",
    "print(\"50th percentile (median):\", np.percentile(data, 50)) # same as median\n",
    "print(\"25th percentile:\", np.percentile(data, 25)) # 9 x .25 = 2.25, round up to 3rd position\n",
    "print(\"75th percentile:\", np.percentile(data, 75)) # 9 x .75 = 6.75, round up to 7th position\n",
    "print(\"variance:\", np.var(data)) # average of squared differences from the data set's mean\n",
    "print(\"standard deviation:\", np.std(data)) # square root of variance \n",
    "print()"
   ]
  },
  {
   "cell_type": "code",
   "execution_count": 4,
   "id": "88c7bba0",
   "metadata": {},
   "outputs": [
    {
     "name": "stdout",
     "output_type": "stream",
     "text": [
      "   Survived  Pclass     Sex   Age  Siblings/Spouses  Parents/Children     Fare\n",
      "0         0       3    male  22.0                 1                 0   7.2500\n",
      "1         1       1  female  38.0                 1                 0  71.2833\n",
      "2         1       3  female  26.0                 0                 0   7.9250\n",
      "3         1       1  female  35.0                 1                 0  53.1000\n",
      "4         0       3    male  35.0                 0                 0   8.0500\n",
      "\n",
      "     Survived  Pclass     Sex   Age  Siblings/Spouses  Parents/Children     Fare\n",
      "315         0       2    male  54.0                 0                 0  14.0000\n",
      "250         0       3  female  29.0                 1                 1  10.4625\n",
      "716         1       2  female   6.0                 0                 1  33.0000\n",
      "\n",
      "         Survived      Pclass         Age  Siblings/Spouses  Parents/Children       Fare\n",
      "count  887.000000  887.000000  887.000000        887.000000        887.000000  887.00000\n",
      "mean     0.385569    2.305524   29.471443          0.525366          0.383315   32.30542\n",
      "std      0.487004    0.836662   14.121908          1.104669          0.807466   49.78204\n",
      "min      0.000000    1.000000    0.420000          0.000000          0.000000    0.00000\n",
      "25%      0.000000    2.000000   20.250000          0.000000          0.000000    7.92500\n",
      "50%      0.000000    3.000000   28.000000          0.000000          0.000000   14.45420\n",
      "75%      1.000000    3.000000   38.000000          1.000000          0.000000   31.13750\n",
      "max      1.000000    3.000000   80.000000          8.000000          6.000000  512.32920\n",
      "\n"
     ]
    }
   ],
   "source": [
    "import pandas as pd # Pandas stands for Panel Data\n",
    "\n",
    "pd.options.display.max_columns = 8 # allows all DataFrame columns to dispay without a '...' break\n",
    "pd.options.display.width = 100 # allows all Dataframe columns to display without a line break (default = 80)\n",
    "\n",
    "df = pd.read_csv('https://sololearn.com/uploads/files/titanic.csv') # 'read_csv()' takes a file in csv (comma seperated value) format and converts it to a Pandas DataFrame\n",
    "\n",
    "print(df.head()) # check first 5 rows. ('1/0' converts to boolean True/False)\n",
    "print()\n",
    "print(df.sample(3)) # check 3 random rows!\n",
    "print()\n",
    "\n",
    "print(df.describe()) # check summary statistics \n",
    "print()"
   ]
  },
  {
   "cell_type": "code",
   "execution_count": 7,
   "id": "eac505ec",
   "metadata": {},
   "outputs": [
    {
     "name": "stdout",
     "output_type": "stream",
     "text": [
      "0       7.2500\n",
      "1      71.2833\n",
      "2       7.9250\n",
      "3      53.1000\n",
      "4       8.0500\n",
      "        ...   \n",
      "882    13.0000\n",
      "883    30.0000\n",
      "884    23.4500\n",
      "885    30.0000\n",
      "886     7.7500\n",
      "Name: Fare, Length: 887, dtype: float64\n",
      "\n",
      "        Fare\n",
      "0     7.2500\n",
      "1    71.2833\n",
      "2     7.9250\n",
      "3    53.1000\n",
      "4     8.0500\n",
      "..       ...\n",
      "882  13.0000\n",
      "883  30.0000\n",
      "884  23.4500\n",
      "885  30.0000\n",
      "886   7.7500\n",
      "\n",
      "[887 rows x 1 columns]\n",
      "\n",
      "    Age     Sex  Survived\n",
      "0  22.0    male         0\n",
      "1  38.0  female         1\n",
      "2  26.0  female         1\n",
      "3  35.0  female         1\n",
      "4  35.0    male         0\n",
      "\n"
     ]
    }
   ],
   "source": [
    "col = df['Fare'] # single brackets returns a Series - a labled 1d array \n",
    "print(col)\n",
    "print()\n",
    "col = df[['Fare']] # double brackets returns a DataFrame (2d) \n",
    "print(col)\n",
    "print()\n",
    "small_df = df[['Age', 'Sex', 'Survived']] # return a DataFrame of multiple columns\n",
    "print(small_df.head())\n",
    "print()"
   ]
  },
  {
   "cell_type": "code",
   "execution_count": 8,
   "id": "c6770d7d",
   "metadata": {},
   "outputs": [
    {
     "name": "stdout",
     "output_type": "stream",
     "text": [
      "   Survived  Pclass     Sex   Age  Siblings/Spouses  Parents/Children     Fare   Male\n",
      "0         0       3    male  22.0                 1                 0   7.2500   True\n",
      "1         1       1  female  38.0                 1                 0  71.2833  False\n",
      "2         1       3  female  26.0                 0                 0   7.9250  False\n",
      "3         1       1  female  35.0                 1                 0  53.1000  False\n",
      "4         0       3    male  35.0                 0                 0   8.0500   True\n"
     ]
    }
   ],
   "source": [
    "df['Male'] = df['Sex'] == 'male' # create a new column 'Male' with boolean True/False values to tell us if passenger is male or not. Booleans are easier for Python to do computations on than the strings in the 'Sex' column\n",
    "print(df.head()) # the new column is added to the end of the DataFrame "
   ]
  },
  {
   "cell_type": "code",
   "execution_count": 13,
   "id": "9fc82a51",
   "metadata": {},
   "outputs": [
    {
     "name": "stdout",
     "output_type": "stream",
     "text": [
      "[ 7.25   71.2833  7.925  53.1     8.05    8.4583 51.8625 21.075  11.1333\n",
      " 30.0708 16.7    26.55    8.05   31.275   7.8542 16.     29.125  13.\n",
      " 18.      7.225  26.     13.      8.0292 35.5    21.075 ]\n",
      "\n",
      "[[ 3.      7.25   22.    ]\n",
      " [ 1.     71.2833 38.    ]\n",
      " [ 3.      7.925  26.    ]\n",
      " [ 1.     53.1    35.    ]\n",
      " [ 3.      8.05   35.    ]\n",
      " [ 3.      8.4583 27.    ]\n",
      " [ 1.     51.8625 54.    ]\n",
      " [ 3.     21.075   2.    ]\n",
      " [ 3.     11.1333 27.    ]\n",
      " [ 2.     30.0708 14.    ]\n",
      " [ 3.     16.7     4.    ]\n",
      " [ 1.     26.55   58.    ]\n",
      " [ 3.      8.05   20.    ]\n",
      " [ 3.     31.275  39.    ]\n",
      " [ 3.      7.8542 14.    ]\n",
      " [ 2.     16.     55.    ]\n",
      " [ 3.     29.125   2.    ]\n",
      " [ 2.     13.     23.    ]\n",
      " [ 3.     18.     31.    ]\n",
      " [ 3.      7.225  22.    ]\n",
      " [ 2.     26.     35.    ]\n",
      " [ 2.     13.     34.    ]\n",
      " [ 3.      8.0292 15.    ]\n",
      " [ 1.     35.5    28.    ]\n",
      " [ 3.     21.075   8.    ]]\n",
      "\n",
      "(25, 3)\n"
     ]
    }
   ],
   "source": [
    "# Pandas DataFrames easier for humans to read, Numpy arrays better for calculations. DataFrames have indexes (column/row labels) arrays do not\n",
    "\n",
    "print(df['Fare'].values[:25]) # '.values' returns Panda Series as 1d Numpy array ('[:25]' returns first 25 values only)\n",
    "print()\n",
    "print(df[['Pclass', 'Fare', 'Age']].values[:25]) # returns Pandas DataFrame as 2d Numpy array\n",
    "print()\n",
    "arr = df[['Pclass', 'Fare', 'Age']].values[:25]\n",
    "print(arr.shape) # '.shape' returns the shape of the array, also works on DataFrames\n"
   ]
  },
  {
   "cell_type": "code",
   "execution_count": 12,
   "id": "08785cc9",
   "metadata": {},
   "outputs": [
    {
     "name": "stdout",
     "output_type": "stream",
     "text": [
      "7.25\n",
      "[ 3.    7.25 22.  ]\n",
      "[22. 38. 26. 35. 35. 27. 54.  2. 27. 14.  4. 58. 20. 39. 14. 55.  2. 23.\n",
      " 31. 22. 35. 34. 15. 28.  8.]\n"
     ]
    }
   ],
   "source": [
    "print(arr[0, 1]) # return value in first row, second column \n",
    "print(arr[0]) # return whole first row\n",
    "print(arr[:,2]) # return whole third column"
   ]
  },
  {
   "cell_type": "code",
   "execution_count": 14,
   "id": "3231f84e",
   "metadata": {},
   "outputs": [
    {
     "name": "stdout",
     "output_type": "stream",
     "text": [
      "[[ 3.     21.075   2.    ]\n",
      " [ 2.     30.0708 14.    ]\n",
      " [ 3.     16.7     4.    ]\n",
      " [ 3.      7.8542 14.    ]\n",
      " [ 3.     29.125   2.    ]\n",
      " [ 3.      8.0292 15.    ]\n",
      " [ 3.     21.075   8.    ]]\n",
      "\n",
      "[[ 3.     21.075   2.    ]\n",
      " [ 2.     30.0708 14.    ]\n",
      " [ 3.     16.7     4.    ]\n",
      " [ 3.      7.8542 14.    ]\n",
      " [ 3.     29.125   2.    ]\n",
      " [ 3.      8.0292 15.    ]\n",
      " [ 3.     21.075   8.    ]]\n",
      "\n",
      "130\n",
      "130\n",
      "\n"
     ]
    }
   ],
   "source": [
    "# masking to select all rows that meet a certain criteria \n",
    "mask = arr[:, 2] < 18 # create the mask. select whole third row ('Age'), return new array of boolean values of whether passenger age is under 18\n",
    "print(arr[mask]) # apply mask to original array to return only the rows for passengers age<18\n",
    "print()\n",
    "print(arr[arr[:, 2] < 18]) # can do same thing in one line without defining 'mask' variable\n",
    "print()\n",
    "\n",
    "arr = df[['Pclass', 'Fare', 'Age']].values # same 2d Numpy array as above, this time for all 887 passangers not just first 25\n",
    "mask = arr[:, 2] < 18\n",
    "print(mask.sum()) # because True has value of 1 and False has value of 0, summing up the values in the mask array tells us how many of the passengers age<18\n",
    "print((arr[:, 2] < 18).sum()) # same thing in one line\n",
    "print()\n",
    "\n",
    "# code and comments by github.com/alandavidgrunberg\n"
   ]
  }
 ],
 "metadata": {
  "kernelspec": {
   "display_name": "Python 3 (ipykernel)",
   "language": "python",
   "name": "python3"
  },
  "language_info": {
   "codemirror_mode": {
    "name": "ipython",
    "version": 3
   },
   "file_extension": ".py",
   "mimetype": "text/x-python",
   "name": "python",
   "nbconvert_exporter": "python",
   "pygments_lexer": "ipython3",
   "version": "3.8.12"
  },
  "toc": {
   "base_numbering": 1,
   "nav_menu": {},
   "number_sections": true,
   "sideBar": true,
   "skip_h1_title": false,
   "title_cell": "Table of Contents",
   "title_sidebar": "Contents",
   "toc_cell": false,
   "toc_position": {},
   "toc_section_display": true,
   "toc_window_display": false
  }
 },
 "nbformat": 4,
 "nbformat_minor": 5
}
