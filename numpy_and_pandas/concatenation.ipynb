{
 "cells": [
  {
   "cell_type": "code",
   "execution_count": 4,
   "id": "ad1cbaad",
   "metadata": {},
   "outputs": [
    {
     "name": "stdout",
     "output_type": "stream",
     "text": [
      "(2, 3)\n",
      "[[ 1  2  3]\n",
      " [11 22 33]]\n",
      "\n",
      "(3, 2)\n",
      "[[ 1 11]\n",
      " [ 2 22]\n",
      " [ 3 33]]\n"
     ]
    }
   ],
   "source": [
    "import numpy as np\n",
    "\n",
    "a = np.array([1,2,3])\n",
    "b = np.array([11,22,33])\n",
    "\n",
    "a = a.reshape((1,3))\n",
    "b = b.reshape((1,3))\n",
    "\n",
    "c = np.concatenate((a,b), axis=0)\n",
    "print(c.shape)\n",
    "print(c)\n",
    "print()\n",
    "#vstack does the same\n",
    "#c = np.vstack((a,b))\n",
    "#print(c.shape)\n",
    "#print(c)\n",
    "\n",
    "a = a.reshape((3,1))\n",
    "b = b.reshape((3,1))\n",
    "\n",
    "c = np.concatenate((a,b), axis=1)\n",
    "print(c.shape)\n",
    "print(c)\n",
    "#hstack does the same\n",
    "#c = np.hstack((a,b))\n",
    "#print(c.shape)\n",
    "#print(c)\n",
    "\n",
    "# code and comments by github.com/alandavidgrunberg"
   ]
  }
 ],
 "metadata": {
  "kernelspec": {
   "display_name": "Python 3 (ipykernel)",
   "language": "python",
   "name": "python3"
  },
  "language_info": {
   "codemirror_mode": {
    "name": "ipython",
    "version": 3
   },
   "file_extension": ".py",
   "mimetype": "text/x-python",
   "name": "python",
   "nbconvert_exporter": "python",
   "pygments_lexer": "ipython3",
   "version": "3.8.12"
  },
  "toc": {
   "base_numbering": 1,
   "nav_menu": {},
   "number_sections": true,
   "sideBar": true,
   "skip_h1_title": false,
   "title_cell": "Table of Contents",
   "title_sidebar": "Contents",
   "toc_cell": false,
   "toc_position": {},
   "toc_section_display": true,
   "toc_window_display": false
  }
 },
 "nbformat": 4,
 "nbformat_minor": 5
}
