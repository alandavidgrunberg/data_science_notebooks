{
 "cells": [
  {
   "cell_type": "markdown",
   "id": "e2c04bc9",
   "metadata": {},
   "source": [
    "# with index_col = 'name'"
   ]
  },
  {
   "cell_type": "code",
   "execution_count": 7,
   "id": "6806f69b",
   "metadata": {},
   "outputs": [
    {
     "name": "stdout",
     "output_type": "stream",
     "text": [
      "                   order  age  height                  party\n",
      "name                                                        \n",
      "George Washington      1   57     189                   none\n",
      "John Adams             2   61     170             federalist\n",
      "Thomas Jefferson       3   57     189  democratic-republican\n",
      "James Madison          4   57     163  democratic-republican\n",
      "James Monroe           5   58     183  democratic-republican\n",
      "\n",
      "(45, 4)\n",
      "\n",
      "180\n",
      "\n",
      "['George Washington' 'John Adams' 'Thomas Jefferson' 'James Madison'\n",
      " 'James Monroe' 'John Quincy Adams' 'Andrew Jackson' 'Martin Van Buren'\n",
      " 'William Henry Harrison' 'John Tyler' 'James K. Polk' 'Zachary Taylor'\n",
      " 'Millard Fillmore' 'Franklin Pierce' 'James Buchanan' 'Abraham Lincoln'\n",
      " 'Andrew Johnson' 'Ulysses S. Grant' 'Rutherford B. Hayes'\n",
      " 'James A. Garfield' 'Chester A. Arthur' 'Grover Cleveland'\n",
      " 'Benjamin Harrison' 'Grover Cleveland' 'William McKinley'\n",
      " 'Theodore Roosevelt' 'William Howard Taft' 'Woodrow Wilson'\n",
      " 'Warren G. Harding' 'Calvin Coolidge' 'Herbert Hoover'\n",
      " 'Franklin D. Roosevelt' 'Harry S. Truman' 'Dwight D. Eisenhower'\n",
      " 'John F. Kennedy' 'Lyndon B. Johnson' 'Richard Nixon' 'Gerald Ford'\n",
      " 'Jimmy Carter' 'Ronald Reagan' 'George H. W. Bush' 'Bill Clinton'\n",
      " 'George W. Bush' 'Barack Obama' 'Donald J. Trump']\n",
      "\n",
      "<class 'pandas.core.frame.DataFrame'>\n",
      "Index: 45 entries, George Washington to Donald J. Trump\n",
      "Data columns (total 4 columns):\n",
      " #   Column  Non-Null Count  Dtype \n",
      "---  ------  --------------  ----- \n",
      " 0   order   45 non-null     int64 \n",
      " 1   age     45 non-null     int64 \n",
      " 2   height  45 non-null     int64 \n",
      " 3   party   45 non-null     object\n",
      "dtypes: int64(3), object(1)\n",
      "memory usage: 1.8+ KB\n",
      "\n"
     ]
    }
   ],
   "source": [
    "import pandas as pd\n",
    "\n",
    "presidents_df = pd.read_csv('https://sololearn.com/uploads/files/president_heights_party.csv', index_col='name')\n",
    "print(presidents_df.head())\n",
    "print()                                 \n",
    "print(presidents_df.shape)\n",
    "print()\n",
    "print(presidents_df.size)\n",
    "print()\n",
    "print(presidents_df.index.values)\n",
    "print()\n",
    "presidents_df.info()\n",
    "print()"
   ]
  },
  {
   "cell_type": "markdown",
   "id": "6e92410f",
   "metadata": {},
   "source": [
    "# without index_col = 'name'"
   ]
  },
  {
   "cell_type": "code",
   "execution_count": 8,
   "id": "2ce25338",
   "metadata": {},
   "outputs": [
    {
     "name": "stdout",
     "output_type": "stream",
     "text": [
      "   order               name  age  height                  party\n",
      "0      1  George Washington   57     189                   none\n",
      "1      2         John Adams   61     170             federalist\n",
      "2      3   Thomas Jefferson   57     189  democratic-republican\n",
      "3      4      James Madison   57     163  democratic-republican\n",
      "4      5       James Monroe   58     183  democratic-republican\n",
      "\n",
      "(45, 5)\n",
      "\n",
      "225\n",
      "\n",
      "[ 0  1  2  3  4  5  6  7  8  9 10 11 12 13 14 15 16 17 18 19 20 21 22 23\n",
      " 24 25 26 27 28 29 30 31 32 33 34 35 36 37 38 39 40 41 42 43 44]\n",
      "\n",
      "<class 'pandas.core.frame.DataFrame'>\n",
      "RangeIndex: 45 entries, 0 to 44\n",
      "Data columns (total 5 columns):\n",
      " #   Column  Non-Null Count  Dtype \n",
      "---  ------  --------------  ----- \n",
      " 0   order   45 non-null     int64 \n",
      " 1   name    45 non-null     object\n",
      " 2   age     45 non-null     int64 \n",
      " 3   height  45 non-null     int64 \n",
      " 4   party   45 non-null     object\n",
      "dtypes: int64(3), object(2)\n",
      "memory usage: 1.9+ KB\n",
      "\n"
     ]
    }
   ],
   "source": [
    "presidents_df2 = pd.read_csv('https://sololearn.com/uploads/files/president_heights_party.csv')\n",
    "print(presidents_df2.head())\n",
    "print()                                 \n",
    "print(presidents_df2.shape)\n",
    "print()\n",
    "print(presidents_df2.size)\n",
    "print()\n",
    "print(presidents_df2.index.values)\n",
    "print()\n",
    "presidents_df2.info()\n",
    "print()\n",
    "\n",
    "# code by github.com/alandavidgrunberg\n"
   ]
  }
 ],
 "metadata": {
  "kernelspec": {
   "display_name": "Python 3 (ipykernel)",
   "language": "python",
   "name": "python3"
  },
  "language_info": {
   "codemirror_mode": {
    "name": "ipython",
    "version": 3
   },
   "file_extension": ".py",
   "mimetype": "text/x-python",
   "name": "python",
   "nbconvert_exporter": "python",
   "pygments_lexer": "ipython3",
   "version": "3.8.12"
  },
  "toc": {
   "base_numbering": 1,
   "nav_menu": {},
   "number_sections": true,
   "sideBar": true,
   "skip_h1_title": false,
   "title_cell": "Table of Contents",
   "title_sidebar": "Contents",
   "toc_cell": false,
   "toc_position": {},
   "toc_section_display": true,
   "toc_window_display": false
  }
 },
 "nbformat": 4,
 "nbformat_minor": 5
}
