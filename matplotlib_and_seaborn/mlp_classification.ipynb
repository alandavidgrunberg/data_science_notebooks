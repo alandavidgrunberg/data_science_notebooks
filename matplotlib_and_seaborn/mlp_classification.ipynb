{
 "cells": [
  {
   "cell_type": "markdown",
   "metadata": {
    "colab_type": "text",
    "id": "view-in-github"
   },
   "source": [
    "<a href=\"https://colab.research.google.com/github/alandavidgrunberg/example_notebooks/blob/master/matplotlib_and_seaborn/mlp_classification__make_classification_data.ipynb\" target=\"_parent\"><img src=\"https://colab.research.google.com/assets/colab-badge.svg\" alt=\"Open In Colab\"/></a>"
   ]
  },
  {
   "cell_type": "code",
   "execution_count": 2,
   "metadata": {
    "colab": {
     "base_uri": "https://localhost:8080/",
     "height": 265
    },
    "id": "KT4CJXPhDPJi",
    "outputId": "ce5adc75-829c-47cc-cf6e-7ea1a6d64bd3"
   },
   "outputs": [
    {
     "data": {
      "image/png": "[encoded data removed]",
      "text/plain": [
       "<Figure size 432x288 with 1 Axes>"
      ]
     },
     "metadata": {
      "needs_background": "light"
     },
     "output_type": "display_data"
    }
   ],
   "source": [
    "from sklearn.datasets import make_classification\n",
    "from matplotlib import pyplot as plt\n",
    "from sklearn.model_selection import train_test_split\n",
    "from sklearn.neural_network import MLPClassifier # Multi Layer Perceptron Classifier \n",
    "\n",
    "# create artifical dataset\n",
    "X, y = make_classification(n_features=2, n_informative=2, n_redundant=0, random_state=3) # 'make_classification ' generates a classification dataset\n",
    "                        # 'n_features=2' makes two features, 'n_informative=2' makes both relevant to the target, 'n_redundant=0' makes neither just combinations of the informative features\n",
    "                        # default 100 samples, 2 target class memberships/labels\n",
    "                        # assign generated samples (feature matrix) to X, corresponding class memberships/labels (target array) to y\n",
    "\n",
    "# plot artificial dataset \n",
    "plt.scatter(X[y==0][:,0], X[y==0][:,1]) # each sample X has two columns (features)\n",
    "                                        # '[y==0]' creates T/F mask based on target array. \n",
    "                                        # apply mask to each column [:,0] and [:,1], selects only samples where target is 0\n",
    "                                        # assign first column to x-axis, second column to y-axis                                        \n",
    "plt.scatter(X[y==1][:, 0], X[y==1][:, 1], marker='^') # same as above but with [y==1] mask, selecting only samples where target is 1\n",
    "                                                      # 'marker='^' makes the markers triangles \n",
    "plt.show()"
   ]
  },
  {
   "cell_type": "code",
   "execution_count": 4,
   "metadata": {
    "colab": {
     "base_uri": "https://localhost:8080/"
    },
    "id": "r4EBuKQQoKQx",
    "outputId": "e2739580-7821-4b2a-a78e-814164e77777"
   },
   "outputs": [
    {
     "name": "stdout",
     "output_type": "stream",
     "text": [
      "neural network accuracy: 0.8\n",
      "\n"
     ]
    }
   ],
   "source": [
    "## neural network classification\n",
    "\n",
    "# train/test split\n",
    "X_train, X_test, y_train, y_test = train_test_split(X, y, random_state=5)\n",
    "\n",
    "# instantiate neural network\n",
    "mlp = MLPClassifier(max_iter=1500, random_state=7) # default 'max_iter' is 200, not enough iterations for neural network to converge on optimal coefficients, change to 1500\n",
    "                                   # 'random_state' hold for coefficient (weights and biases) initialization \n",
    "                                   # default one hidden layer with 100 neurons, 'relu' activation\n",
    "                                   # 2 nuerons in input layer because dataset has two features, 1 neuron in output layer because binary classification\n",
    "                                   # because binary classification, defaults output layer 'logistic' activation \n",
    "                                   # therefore neural network shape is: \n",
    "                                   #                                    input layer  ->  hidden layer  ->  output layer\n",
    "                                   #                                    2 neurons        100 neurons       1 neuron\n",
    "                                   #                                                     relu activation   logistic activation\n",
    "\n",
    "# fit neural network\n",
    "mlp.fit(X_train, y_train)\n",
    "\n",
    "# evaluate neural network\n",
    "print(\"neural network accuracy:\", mlp.score(X_test, y_test))\n",
    "print()\n"
   ]
  },
  {
   "cell_type": "code",
   "execution_count": 5,
   "metadata": {
    "colab": {
     "base_uri": "https://localhost:8080/"
    },
    "id": "Z3ZXdSKfoLyP",
    "outputId": "1de2fb12-57bb-4f2d-a272-88c180d80afe"
   },
   "outputs": [
    {
     "name": "stdout",
     "output_type": "stream",
     "text": [
      "tuned neural network accuracy: 0.88\n"
     ]
    }
   ],
   "source": [
    "## tuning neural network\n",
    "mlp = MLPClassifier(max_iter=1500, hidden_layer_sizes=(200,50), activation='tanh', alpha=0.00001, random_state=7) # match previous random state so neural networks can be compared\n",
    "                                                                               # 'hidden_layer_sizes=' set two hidden layers, first with 200 neurons, second with 50 neurons\n",
    "                                                                               #  'activation=' set activation function as 'tanh'\n",
    "                                                                               # 'alpha=' set iteration step size: how much the neural network changes the coefficients at each iteration while converging on optimal coefficients\n",
    "                                                                               # ...if the value is too small, may never converge on the optimal solution. If the value is too large, may miss the optimal solution \n",
    "                                                                               # ...default value is 0.0001 (decreasing alpha often requires an increase in 'max_iter='\n",
    "                                                                               # now neural network shape is: \n",
    "                                                                               #                                    input layer  ->  hidden layer  ->  hidden layer  ->  output layer\n",
    "                                                                               #                                    2 neurons        200 neurons       50 neurons        1 neuron\n",
    "                                                                               #                                                     tanh activation   tanh activation   logistic activation\n",
    "mlp.fit(X_train, y_train)\n",
    "print(\"tuned neural network accuracy:\", mlp.score(X_test, y_test))\n",
    "\n",
    "# code and comments by github.com/alandavidgrunberg\n"
   ]
  },
  {
   "cell_type": "code",
   "execution_count": null,
   "metadata": {
    "id": "qUGPyuX5oPxf"
   },
   "outputs": [],
   "source": []
  }
 ],
 "metadata": {
  "colab": {
   "authorship_tag": "ABX9TyNN0RCQ6QAbkS1vQH0wyyLk",
   "collapsed_sections": [],
   "include_colab_link": true,
   "name": "Neural Network (artificial dataset with 'make_classification')",
   "provenance": []
  },
  "kernelspec": {
   "display_name": "Python 3 (ipykernel)",
   "language": "python",
   "name": "python3"
  },
  "language_info": {
   "codemirror_mode": {
    "name": "ipython",
    "version": 3
   },
   "file_extension": ".py",
   "mimetype": "text/x-python",
   "name": "python",
   "nbconvert_exporter": "python",
   "pygments_lexer": "ipython3",
   "version": "3.8.12"
  },
  "toc": {
   "base_numbering": 1,
   "nav_menu": {},
   "number_sections": true,
   "sideBar": true,
   "skip_h1_title": false,
   "title_cell": "Table of Contents",
   "title_sidebar": "Contents",
   "toc_cell": false,
   "toc_position": {},
   "toc_section_display": true,
   "toc_window_display": false
  }
 },
 "nbformat": 4,
 "nbformat_minor": 1
}
