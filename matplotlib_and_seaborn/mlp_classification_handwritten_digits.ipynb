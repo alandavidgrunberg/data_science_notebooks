{
 "cells": [
  {
   "cell_type": "markdown",
   "metadata": {
    "colab_type": "text",
    "id": "view-in-github"
   },
   "source": [
    "<a href=\"https://colab.research.google.com/github/alandavidgrunberg/example_notebooks/blob/master/matplotlib_and_seaborn/mlp_classification__handwritten_digits_data.ipynb\" target=\"_parent\"><img src=\"https://colab.research.google.com/assets/colab-badge.svg\" alt=\"Open In Colab\"/></a>"
   ]
  },
  {
   "cell_type": "code",
   "execution_count": 2,
   "metadata": {
    "colab": {
     "base_uri": "https://localhost:8080/"
    },
    "id": "r79G9AjupSrq",
    "outputId": "d0b22f7f-d19e-4d99-e9a4-d6724348daaa"
   },
   "outputs": [
    {
     "name": "stdout",
     "output_type": "stream",
     "text": [
      "feature matrix X: (360, 64)\n",
      "target array y: (360,)\n",
      "\n"
     ]
    }
   ],
   "source": [
    "from sklearn.datasets import load_digits\n",
    "import matplotlib.pyplot as plt\n",
    "\n",
    "X, y = load_digits(n_class=2, return_X_y=True) # 'load_digits' dataset contains 10 classes: digits 0 through 9. 'n_class=2' selects only the first 2 digits: 0 and 1. 'return_X_y' returns (data, target) tuple. Unpacked and assigned to variables X, y\n",
    "\n",
    "print(\"feature matrix X:\", X.shape) # 360 datapoints with 64 features each\n",
    "print(\"target array y:\", y.shape) # 360 targets\n",
    "print()\n"
   ]
  },
  {
   "cell_type": "code",
   "execution_count": 4,
   "metadata": {
    "colab": {
     "base_uri": "https://localhost:8080/",
     "height": 582
    },
    "id": "ZeXRV1t4pAzK",
    "outputId": "2f2a8b8a-a29a-4b1c-9456-c1b93475daa9"
   },
   "outputs": [
    {
     "name": "stdout",
     "output_type": "stream",
     "text": [
      "first image:\n",
      "\n",
      "[ 0.  0.  5. 13.  9.  1.  0.  0.  0.  0. 13. 15. 10. 15.  5.  0.  0.  3.\n",
      " 15.  2.  0. 11.  8.  0.  0.  4. 12.  0.  0.  8.  8.  0.  0.  5.  8.  0.\n",
      "  0.  9.  8.  0.  0.  4. 11.  0.  1. 12.  7.  0.  0.  2. 14.  5. 10. 12.\n",
      "  0.  0.  0.  0.  6. 13. 10.  0.  0.  0.]\n",
      "\n",
      "0\n",
      "\n",
      "[[ 0.  0.  5. 13.  9.  1.  0.  0.]\n",
      " [ 0.  0. 13. 15. 10. 15.  5.  0.]\n",
      " [ 0.  3. 15.  2.  0. 11.  8.  0.]\n",
      " [ 0.  4. 12.  0.  0.  8.  8.  0.]\n",
      " [ 0.  5.  8.  0.  0.  9.  8.  0.]\n",
      " [ 0.  4. 11.  0.  1. 12.  7.  0.]\n",
      " [ 0.  2. 14.  5. 10. 12.  0.  0.]\n",
      " [ 0.  0.  6. 13. 10.  0.  0.  0.]]\n",
      "\n"
     ]
    },
    {
     "data": {
      "image/png": "[encoded data removed]",
      "text/plain": [
       "<Figure size 288x288 with 1 Axes>"
      ]
     },
     "metadata": {},
     "output_type": "display_data"
    }
   ],
   "source": [
    "print(\"first image:\")\n",
    "print()\n",
    "print( X[0]) # show first datapoint's feature array. each datapoint is an 8 x 8 pixels grayscale image of a 0 or 1. the features are 64 values from 0 (black) to 16 (white). \n",
    "print()\n",
    "print(y[0]) # show target class label of first datapoint (0)\n",
    "print()\n",
    "print(X[0].reshape(8, 8)) # it's easier to make out the digit in the image if we reshape the array to 8 x 8\n",
    "print()\n",
    "\n",
    "# view image directly using matplotlib\n",
    "plt.matshow(X[0].reshape(8, 8), cmap=plt.cm.gray) # 'matshow()' displays an array as a matrix, 'cmap=' passing grayscale colormap \n",
    "plt.xticks(()) # remove x tick marks\n",
    "plt.yticks(())  # remove y tick marks\n",
    "plt.show()"
   ]
  },
  {
   "cell_type": "code",
   "execution_count": 5,
   "metadata": {
    "colab": {
     "base_uri": "https://localhost:8080/",
     "height": 493
    },
    "id": "I6IpgvZNpKIy",
    "outputId": "fa283887-daaa-491a-cfba-172301df0ac7"
   },
   "outputs": [
    {
     "name": "stdout",
     "output_type": "stream",
     "text": [
      "second image:\n",
      "\n",
      "1\n",
      "\n",
      "[[ 0.  0.  0. 12. 13.  5.  0.  0.]\n",
      " [ 0.  0.  0. 11. 16.  9.  0.  0.]\n",
      " [ 0.  0.  3. 15. 16.  6.  0.  0.]\n",
      " [ 0.  7. 15. 16. 16.  2.  0.  0.]\n",
      " [ 0.  0.  1. 16. 16.  3.  0.  0.]\n",
      " [ 0.  0.  1. 16. 16.  6.  0.  0.]\n",
      " [ 0.  0.  1. 16. 16.  6.  0.  0.]\n",
      " [ 0.  0.  0. 11. 16. 10.  0.  0.]]\n",
      "\n"
     ]
    },
    {
     "data": {
      "image/png": "[encoded data removed]",
      "text/plain": [
       "<Figure size 288x288 with 1 Axes>"
      ]
     },
     "metadata": {},
     "output_type": "display_data"
    }
   ],
   "source": [
    "print(\"second image:\")\n",
    "print()\n",
    "print(y[1]) # show target class label of second datapoint (1)\n",
    "print()\n",
    "print(X[1].reshape(8, 8)) # second datapoint's feature array (reshaped to 8 x 8)\n",
    "print()\n",
    "\n",
    "# view image directly using matplotlib\n",
    "plt.matshow(X[1].reshape(8, 8), cmap=plt.cm.gray) # 'matshow()' displays an array as a matrix, 'cmap=' passing grayscale colormap \n",
    "plt.xticks(()) # remove x tick marks\n",
    "plt.yticks(())  # remove y tick marks\n",
    "plt.show()"
   ]
  },
  {
   "cell_type": "code",
   "execution_count": 7,
   "metadata": {
    "colab": {
     "base_uri": "https://localhost:8080/"
    },
    "id": "jBB0Ksb1XOeR",
    "outputId": "0d5e5970-ff22-49bf-cebb-e4d58ef19322"
   },
   "outputs": [
    {
     "name": "stdout",
     "output_type": "stream",
     "text": [
      "(720, 64) (720,)\n",
      "0.0 16.0\n",
      "[0 1 2 3]\n"
     ]
    }
   ],
   "source": [
    "import numpy as np\n",
    "from sklearn.neural_network import MLPClassifier\n",
    "\n",
    "X, y = load_digits(n_class=4, return_X_y=True) # 'load_digits' dataset contains 10 classes: digits 0 through 9. 'n_class=2' selects only the first 4 digits: 0,1,2,3. 'return_X_y' returns (data, target) tuple. Unpacked and assigned to variables X, y\n",
    "\n",
    "print(X.shape, y.shape) # 720 datapoints, 64 features (8 x 8 pixels)\n",
    "print(np.min(X), np.max(X)) # feature values range from 0 (white) to 16 (black)\n",
    "print(y[0:4]) # first 4 target values: digits 0 to 3 \n"
   ]
  },
  {
   "cell_type": "code",
   "execution_count": 8,
   "metadata": {
    "colab": {
     "base_uri": "https://localhost:8080/",
     "height": 993
    },
    "id": "5ZPf2gvlpfo5",
    "outputId": "2c8591d0-5140-420d-857d-087fad6eab8c"
   },
   "outputs": [
    {
     "data": {
      "image/png": "[encoded data removed]",
      "text/plain": [
       "<Figure size 288x288 with 1 Axes>"
      ]
     },
     "metadata": {},
     "output_type": "display_data"
    },
    {
     "data": {
      "image/png": "[encoded data removed]",
      "text/plain": [
       "<Figure size 288x288 with 1 Axes>"
      ]
     },
     "metadata": {},
     "output_type": "display_data"
    },
    {
     "data": {
      "image/png": "[encoded data removed]",
      "text/plain": [
       "<Figure size 288x288 with 1 Axes>"
      ]
     },
     "metadata": {},
     "output_type": "display_data"
    },
    {
     "data": {
      "image/png": "[encoded data removed]",
      "text/plain": [
       "<Figure size 288x288 with 1 Axes>"
      ]
     },
     "metadata": {},
     "output_type": "display_data"
    }
   ],
   "source": [
    "#first 4 images:\n",
    "plt.matshow(X[0].reshape(8, 8), cmap=plt.cm.gray) # 'matshow()' displays an array as a matrix, 'cmap=' passing grayscale colormap \n",
    "plt.xticks(()) # remove x tick marks\n",
    "plt.yticks(())  # remove y tick marks\n",
    "plt.show()\n",
    "\n",
    "plt.matshow(X[1].reshape(8, 8), cmap=plt.cm.gray)\n",
    "plt.xticks(()) \n",
    "plt.yticks(()) \n",
    "plt.show()\n",
    "\n",
    "plt.matshow(X[2].reshape(8, 8), cmap=plt.cm.gray)\n",
    "plt.xticks(()) \n",
    "plt.yticks(()) \n",
    "plt.show()\n",
    "\n",
    "plt.matshow(X[3].reshape(8, 8), cmap=plt.cm.gray)\n",
    "plt.xticks(()) \n",
    "plt.yticks(()) \n",
    "plt.show()"
   ]
  },
  {
   "cell_type": "code",
   "execution_count": 9,
   "metadata": {
    "colab": {
     "base_uri": "https://localhost:8080/",
     "height": 320
    },
    "id": "MC_-6LNkpl3P",
    "outputId": "805efb3d-c2a8-4751-ca4e-953d32aa867c"
   },
   "outputs": [
    {
     "name": "stdout",
     "output_type": "stream",
     "text": [
      "(64, 6)\n"
     ]
    },
    {
     "data": {
      "image/png": "[encoded data removed]",
      "text/plain": [
       "<Figure size 432x360 with 6 Axes>"
      ]
     },
     "metadata": {},
     "output_type": "display_data"
    }
   ],
   "source": [
    "\n",
    "mlp=MLPClassifier(hidden_layer_sizes=(6), max_iter=500, random_state=99) # instantiate neural network with: 1 hidden layer w/ 6 nodes\n",
    "                                                        # default n input nodes = n features, 'relu' activation for hidden layer.\n",
    "                                                        # default for multilabel classification: n output neurons = n targets, 'softmax' activation for output layer\n",
    "#  \n",
    "#                                    input layer  ->  hidden layer  ->  output layer\n",
    "#                                    64 neurons       6 neurons         4 neurons (targets 0, 1, 2, 3)\n",
    "#                                                     relu activation   softmax activation\n",
    "\n",
    "mlp.fit(X, y) # fit neural network. takes a while but it does converge (find optimal coefficients: weights and biases)\n",
    "\n",
    "\n",
    "#visualize weights of hidden layer\n",
    "\n",
    "print(mlp.coefs_[0].shape) # neural network's weights stored in  'mlp.coefs_' as a list with 2 elements. \n",
    "                           # the first element in the list is an array of the weights for the hidden layer.\n",
    "                           # row = features, column = each neuron in the hidden layer. so 84 features with 6 weights each (one per hidden layer neuron)\n",
    "\n",
    "fig, axes = plt.subplots(2, 3, figsize=(6, 5)) # use 'subplots()' to create multiple axes (plots) within a single figure. creates 2 rows x 3 columns array of axes (6 axes)\n",
    "for i, ax in enumerate(axes.ravel()): # 'ravel()' reshapes axes from 2d array (2,3) to 1d array (6,)\n",
    "                                      # 'enumerate()' makes the axes iterable (capable of being called one at a time in a 'for' loop)\n",
    "                                      # 'for' loop over 'i' and each 'ax' (runs 6 times because 6 axes)\n",
    "    weights = mlp.coefs_[0][:, i] # selects each column from array of weights for the hidden layer. i column = i neuron's weights (1st column = 1st neuron's weights, etc.)\n",
    "    ax.matshow(weights.reshape(8, 8), cmap=plt.cm.gray) # reshapes each neuron's 784 weights to a 28 x 28 grid, plots them with grayscale colormap\n",
    "    ax.set_xticks(()) # erases tick marks\n",
    "    ax.set_yticks(()) # \"\n",
    "    ax.set_title(i + 1) # sets each plot's title\n",
    "plt.show()"
   ]
  },
  {
   "cell_type": "code",
   "execution_count": 10,
   "metadata": {
    "colab": {
     "base_uri": "https://localhost:8080/"
    },
    "id": "fPvYH48fk7FH",
    "outputId": "636168e9-aa3f-4164-ae05-2fd9c9bfe4d3"
   },
   "outputs": [
    {
     "name": "stdout",
     "output_type": "stream",
     "text": [
      "first 5 predictions: [4 0 9 1 8]\n",
      "first 5 targets:     [4 0 9 1 4]\n",
      "model accuracy:  0.96\n"
     ]
    }
   ],
   "source": [
    "from sklearn.model_selection import train_test_split\n",
    "\n",
    "## predicting digits (1 through 9) with neural network\n",
    "\n",
    "X, y = load_digits(return_X_y=True) # load dataset, this time the whole set 1 through 9, data and targets unpacked and assigned to X, y\n",
    "\n",
    "X_train, X_test, y_train, y_test = train_test_split(X, y, random_state=2) # train/test split on whole dataset\n",
    "\n",
    "mlp = MLPClassifier(random_state=3) # instantiate model. default one hidden layer with 100 neurons, 'relu' activation. 64 neurons in input layer because dataset has 64 features. 1 neuron in output layer because binary classification. defaults output layer 'softmax' activation because multilabel classification (10 target labels, digits 0 through 9). therefore, neural network shape is:\n",
    "#\n",
    "#                                    input layer  ->  hidden layer  ->  output layer\n",
    "#                                    64 neurons       100 neurons       10 neurons\n",
    "#                                                     relu activation   softmax activation\n",
    "#                                                                       (highest output neuron chosen)\n",
    "\n",
    "mlp.fit(X_train, y_train) # fit model\n",
    "\n",
    "print(\"first 5 predictions:\", mlp.predict(X_test[0:5])) # first 5 predictions\n",
    "print(\"first 5 targets:    \", y_test[0:5]) # first 5 targets (actual values)\n",
    "print(\"model accuracy: \", mlp.score(X_test, y_test)) # model accuracy\n"
   ]
  },
  {
   "cell_type": "code",
   "execution_count": 12,
   "metadata": {
    "colab": {
     "base_uri": "https://localhost:8080/",
     "height": 1000
    },
    "id": "gg5wl3Rqp2n0",
    "outputId": "95970259-2ed3-4ad4-9f23-92de71ba9171"
   },
   "outputs": [
    {
     "name": "stdout",
     "output_type": "stream",
     "text": [
      "incorrect predictions:\n"
     ]
    },
    {
     "data": {
      "image/png": "[encoded data removed]",
      "text/plain": [
       "<Figure size 288x288 with 1 Axes>"
      ]
     },
     "metadata": {},
     "output_type": "display_data"
    },
    {
     "name": "stdout",
     "output_type": "stream",
     "text": [
      "true value: 4\n",
      "predicted value: 8\n"
     ]
    },
    {
     "data": {
      "image/png": "[encoded data removed]",
      "text/plain": [
       "<Figure size 288x288 with 1 Axes>"
      ]
     },
     "metadata": {},
     "output_type": "display_data"
    },
    {
     "name": "stdout",
     "output_type": "stream",
     "text": [
      "true value: 4\n",
      "predicted value: 1\n"
     ]
    },
    {
     "data": {
      "image/png": "[encoded data removed]",
      "text/plain": [
       "<Figure size 288x288 with 1 Axes>"
      ]
     },
     "metadata": {},
     "output_type": "display_data"
    },
    {
     "name": "stdout",
     "output_type": "stream",
     "text": [
      "true value: 8\n",
      "predicted value: 2\n"
     ]
    },
    {
     "data": {
      "image/png": "[encoded data removed]",
      "text/plain": [
       "<Figure size 288x288 with 1 Axes>"
      ]
     },
     "metadata": {},
     "output_type": "display_data"
    },
    {
     "name": "stdout",
     "output_type": "stream",
     "text": [
      "true value: 4\n",
      "predicted value: 8\n"
     ]
    },
    {
     "data": {
      "image/png": "[encoded data removed]",
      "text/plain": [
       "<Figure size 288x288 with 1 Axes>"
      ]
     },
     "metadata": {},
     "output_type": "display_data"
    },
    {
     "name": "stdout",
     "output_type": "stream",
     "text": [
      "true value: 4\n",
      "predicted value: 7\n"
     ]
    },
    {
     "data": {
      "image/png": "[encoded data removed]",
      "text/plain": [
       "<Figure size 288x288 with 1 Axes>"
      ]
     },
     "metadata": {},
     "output_type": "display_data"
    },
    {
     "name": "stdout",
     "output_type": "stream",
     "text": [
      "true value: 6\n",
      "predicted value: 1\n"
     ]
    },
    {
     "data": {
      "image/png": "[encoded data removed]",
      "text/plain": [
       "<Figure size 288x288 with 1 Axes>"
      ]
     },
     "metadata": {},
     "output_type": "display_data"
    },
    {
     "name": "stdout",
     "output_type": "stream",
     "text": [
      "true value: 9\n",
      "predicted value: 5\n"
     ]
    },
    {
     "data": {
      "image/png": "[encoded data removed]",
      "text/plain": [
       "<Figure size 288x288 with 1 Axes>"
      ]
     },
     "metadata": {},
     "output_type": "display_data"
    },
    {
     "name": "stdout",
     "output_type": "stream",
     "text": [
      "true value: 9\n",
      "predicted value: 1\n"
     ]
    },
    {
     "data": {
      "image/png": "[encoded data removed]",
      "text/plain": [
       "<Figure size 288x288 with 1 Axes>"
      ]
     },
     "metadata": {},
     "output_type": "display_data"
    },
    {
     "name": "stdout",
     "output_type": "stream",
     "text": [
      "true value: 4\n",
      "predicted value: 9\n"
     ]
    },
    {
     "data": {
      "image/png": "[encoded data removed]",
      "text/plain": [
       "<Figure size 288x288 with 1 Axes>"
      ]
     },
     "metadata": {},
     "output_type": "display_data"
    },
    {
     "name": "stdout",
     "output_type": "stream",
     "text": [
      "true value: 3\n",
      "predicted value: 8\n"
     ]
    },
    {
     "data": {
      "image/png": "[encoded data removed]",
      "text/plain": [
       "<Figure size 288x288 with 1 Axes>"
      ]
     },
     "metadata": {},
     "output_type": "display_data"
    },
    {
     "name": "stdout",
     "output_type": "stream",
     "text": [
      "true value: 5\n",
      "predicted value: 9\n"
     ]
    },
    {
     "data": {
      "image/png": "[encoded data removed]",
      "text/plain": [
       "<Figure size 288x288 with 1 Axes>"
      ]
     },
     "metadata": {},
     "output_type": "display_data"
    },
    {
     "name": "stdout",
     "output_type": "stream",
     "text": [
      "true value: 3\n",
      "predicted value: 5\n"
     ]
    },
    {
     "data": {
      "image/png": "[encoded data removed]",
      "text/plain": [
       "<Figure size 288x288 with 1 Axes>"
      ]
     },
     "metadata": {},
     "output_type": "display_data"
    },
    {
     "name": "stdout",
     "output_type": "stream",
     "text": [
      "true value: 9\n",
      "predicted value: 7\n"
     ]
    },
    {
     "data": {
      "image/png": "[encoded data removed]",
      "text/plain": [
       "<Figure size 288x288 with 1 Axes>"
      ]
     },
     "metadata": {},
     "output_type": "display_data"
    },
    {
     "name": "stdout",
     "output_type": "stream",
     "text": [
      "true value: 9\n",
      "predicted value: 3\n"
     ]
    },
    {
     "data": {
      "image/png": "[encoded data removed]",
      "text/plain": [
       "<Figure size 288x288 with 1 Axes>"
      ]
     },
     "metadata": {},
     "output_type": "display_data"
    },
    {
     "name": "stdout",
     "output_type": "stream",
     "text": [
      "true value: 5\n",
      "predicted value: 4\n"
     ]
    },
    {
     "data": {
      "image/png": "[encoded data removed]",
      "text/plain": [
       "<Figure size 288x288 with 1 Axes>"
      ]
     },
     "metadata": {},
     "output_type": "display_data"
    },
    {
     "name": "stdout",
     "output_type": "stream",
     "text": [
      "true value: 5\n",
      "predicted value: 1\n"
     ]
    },
    {
     "data": {
      "image/png": "[encoded data removed]",
      "text/plain": [
       "<Figure size 288x288 with 1 Axes>"
      ]
     },
     "metadata": {},
     "output_type": "display_data"
    },
    {
     "name": "stdout",
     "output_type": "stream",
     "text": [
      "true value: 9\n",
      "predicted value: 8\n"
     ]
    },
    {
     "data": {
      "image/png": "[encoded data removed]",
      "text/plain": [
       "<Figure size 288x288 with 1 Axes>"
      ]
     },
     "metadata": {},
     "output_type": "display_data"
    },
    {
     "name": "stdout",
     "output_type": "stream",
     "text": [
      "true value: 3\n",
      "predicted value: 5\n"
     ]
    }
   ],
   "source": [
    "# looking at incorrect predictions\n",
    "y_pred = mlp.predict(X_test) # predictions for all testing datapoints\n",
    "wrong_pred_mask = (y_pred != y_test) # list of T/F values, T where test predictions don't match test targets\n",
    "incorrect = X_test[wrong_pred_mask] # mask applied to testing data points, pulls out datapoints predicted incorrectly\n",
    "incorrect_pred = y_pred[wrong_pred_mask] # mask applied to predictions, pulls out incorrect predictions \n",
    "incorrect_true = y_test[wrong_pred_mask] # mask applied to targets, pulls out actual values for wrong preds\n",
    "\n",
    "print(\"incorrect predictions:\")\n",
    "for i in range(len(incorrect)): # length of 'incorrect' = 18, 'range(18)' = 0,1,2,3...to 17. So loop runs 18 times, once for each incorrect prediction\n",
    "  plt.matshow(incorrect[i].reshape(8, 8), cmap=plt.cm.gray) # plot each incorrectly predicted datapoint's feature array as an 8 x 8 grayscale image \n",
    "  plt.xticks(()) # remove tick marks\n",
    "  plt.yticks(()) # remove tick marks\n",
    "  plt.show()\n",
    "  print(\"true value:\", incorrect_true[i]) # show each incorrectly predicted datapoint's actual target value\n",
    "  print(\"predicted value:\", incorrect_pred[i]) # show the neural network's prediction for eachincorrectly predicted datapoint\n",
    "\n",
    "# code and comments by github.com/alandavidgrunberg\n",
    "    "
   ]
  }
 ],
 "metadata": {
  "colab": {
   "authorship_tag": "ABX9TyNtiotd/AWPDEOX3mceSNSZ",
   "collapsed_sections": [],
   "include_colab_link": true,
   "name": "Predicting Handwritten Digits (Machine Learning)",
   "provenance": []
  },
  "kernelspec": {
   "display_name": "Python 3 (ipykernel)",
   "language": "python",
   "name": "python3"
  },
  "language_info": {
   "codemirror_mode": {
    "name": "ipython",
    "version": 3
   },
   "file_extension": ".py",
   "mimetype": "text/x-python",
   "name": "python",
   "nbconvert_exporter": "python",
   "pygments_lexer": "ipython3",
   "version": "3.8.12"
  },
  "toc": {
   "base_numbering": 1,
   "nav_menu": {},
   "number_sections": true,
   "sideBar": true,
   "skip_h1_title": false,
   "title_cell": "Table of Contents",
   "title_sidebar": "Contents",
   "toc_cell": false,
   "toc_position": {},
   "toc_section_display": true,
   "toc_window_display": false
  }
 },
 "nbformat": 4,
 "nbformat_minor": 1
}
