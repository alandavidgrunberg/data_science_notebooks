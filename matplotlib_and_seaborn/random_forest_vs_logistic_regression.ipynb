{
 "cells": [
  {
   "cell_type": "markdown",
   "metadata": {
    "colab_type": "text",
    "id": "view-in-github"
   },
   "source": [
    "<a href=\"https://colab.research.google.com/github/alandavidgrunberg/example_notebooks/blob/master/matplotlib_and_seaborn/random_forest_vs_logistic_regression__make_circles_data.ipynb\" target=\"_parent\"><img src=\"https://colab.research.google.com/assets/colab-badge.svg\" alt=\"Open In Colab\"/></a>"
   ]
  },
  {
   "cell_type": "code",
   "execution_count": 1,
   "metadata": {
    "colab": {
     "base_uri": "https://localhost:8080/",
     "height": 301
    },
    "id": "M34afJtJvf5G",
    "outputId": "3c2f57e1-9833-41aa-9e14-08cdac9d7dd9"
   },
   "outputs": [
    {
     "data": {
      "image/png": "[encoded data removed]",
      "text/plain": [
       "<Figure size 432x288 with 1 Axes>"
      ]
     },
     "metadata": {
      "needs_background": "light"
     },
     "output_type": "display_data"
    },
    {
     "name": "stdout",
     "output_type": "stream",
     "text": [
      "LR accuracy: 0.31\n",
      "RF accuracy: 0.8699999999999999\n"
     ]
    }
   ],
   "source": [
    "# The biggest advantage of Random Forests is that they generally perform well without any tuning\n",
    "# They will also perform decently well on almost every dataset.\n",
    "# A linear model, on the other hand, cannot perform well on a dataset that cannot be split with a line.\n",
    "\n",
    "from sklearn.datasets import make_circles\n",
    "from sklearn.model_selection import KFold, cross_val_score\n",
    "from sklearn.linear_model import LogisticRegression\n",
    "from sklearn.ensemble import RandomForestClassifier\n",
    "import matplotlib.pyplot as plt\n",
    "import numpy as np\n",
    "\n",
    "X, y = make_circles(noise=0.2, factor=0.5, random_state=1) # 'make_circles' generates a classification dataset with concentric circles. \n",
    "                                                           # assign generated samples to X, corresponding class memberships to y\n",
    "\n",
    "plt.scatter(X[:,0], X[:,1], c=y) # scatter plot of the dataset. \n",
    "                                 # each sample X has two columns (features). assign first column to x-axis, second column to y-axis\n",
    "                                 # 'c=' color datapoints by class membership (target, two labels 0 or 1)\n",
    "plt.show()\n",
    "\n",
    "# ^It is not possible to split this dataset with a line without manipulating the features.\n",
    "#  However, a random forest will perform just fine on this dataset.\n",
    "\n",
    "\n",
    "# kfold cross validation to compare accuracy scores\n",
    "kf = KFold(n_splits=5, shuffle=True, random_state=2) # instantiate Kfold object 'kf' w/ 5 folds, 'shuffle' randomizes order, 'random_state' holds the shuffle\n",
    "lr_scores = [] # empty list for logistic regression scores\n",
    "rf_scores = [] # empty list for random forest scores\n",
    "for train_index, test_index in kf.split(X): # 'split()' method creates the splits, outputs a generator, pass features X. \n",
    "                                            # for loop using training and testing indices generated for each fold\n",
    "    X_train, X_test = X[train_index], X[test_index] # train/test-split for each fold..\n",
    "    y_train, y_test = y[train_index], y[test_index] # ..using training and testing indices \n",
    "    lr = LogisticRegression() # instantiate logistic regression model for each fold\n",
    "    lr.fit(X_train, y_train) # fit each model\n",
    "    lr_scores.append(lr.score(X_test, y_test)) # add each models accuracy scores to list\n",
    "    rf = RandomForestClassifier(random_state=3) # instantiate random forest model for each fold\n",
    "    rf.fit(X_train, y_train) # fit each model\n",
    "    rf_scores.append(rf.score(X_test, y_test)) # add each models accuracy scores to list\n",
    "print(\"LR accuracy:\", np.mean(lr_scores)) # mean of all 5 logistic regression model's scores (cross-validated score)\n",
    "print(\"RF accuracy:\", np.mean(rf_scores)) # mean of all 5 random forest model's scores (cross-validated score)\n"
   ]
  },
  {
   "cell_type": "code",
   "execution_count": 2,
   "metadata": {
    "colab": {
     "base_uri": "https://localhost:8080/"
    },
    "id": "vbTQwFLlpYLm",
    "outputId": "3e87adee-56b1-418d-ede8-146a0c7b25e3"
   },
   "outputs": [
    {
     "name": "stdout",
     "output_type": "stream",
     "text": [
      "LR accuracy: 0.31\n",
      "RF accuracy: 0.8699999999999999\n"
     ]
    }
   ],
   "source": [
    "# same thing with cross_val_score shortcut\n",
    "lr = LogisticRegression() # instantiate logistic regression model\n",
    "rf = RandomForestClassifier(random_state=3) # instantiate random forest model, same random state as in the above loop\n",
    "lr_scores = cross_val_score(lr, X, y, cv=kf) # pass logistic regression model, all features 'X', all targets 'y' \n",
    "                                             # 'cv=' means number of folds. Instead of passing an integer, here we pass 'kf', the 'KFold' object that was initiated earlier\n",
    "                                             # 'cross_val_score' will automatically create a train/test-split for each fold, instantiate a model for each fold, fit each model, and output each model's accuracy score\n",
    "rf_scores = cross_val_score(rf, X, y, cv=kf) # same above, this time passing random forest model\n",
    "print(\"LR accuracy:\", np.mean(lr_scores)) # mean of all 5 logistic regression model's scores (cross-validated score)\n",
    "print(\"RF accuracy:\", np.mean(rf_scores)) # mean of all 5 random forest model's scores (cross-validated score)\n",
    "\n",
    "# We see that the Logistic Regression model performs worse than random guessing but the Random Forest model performs quite well\n",
    "# When looking to get a benchmark for a new classification problem, it is common practice to start by building a Logistic Regression model and a Random Forest model as these two models both have potential to perform well without tuning\n",
    "# This will give you values for your metrics to try to beat. Oftentimes it is almost impossible to do better than these benchmarks\n",
    "\n",
    "# code and comments by github.com/alandavidgrunberg\n"
   ]
  }
 ],
 "metadata": {
  "colab": {
   "authorship_tag": "ABX9TyO56kWyuBbathCTGUGPTUW7",
   "collapsed_sections": [],
   "include_colab_link": true,
   "name": "Random Forest (Elbow Graph, Concentric Circle Dataset Classification with 'make_circles')",
   "provenance": []
  },
  "kernelspec": {
   "display_name": "Python 3 (ipykernel)",
   "language": "python",
   "name": "python3"
  },
  "language_info": {
   "codemirror_mode": {
    "name": "ipython",
    "version": 3
   },
   "file_extension": ".py",
   "mimetype": "text/x-python",
   "name": "python",
   "nbconvert_exporter": "python",
   "pygments_lexer": "ipython3",
   "version": "3.8.12"
  },
  "toc": {
   "base_numbering": 1,
   "nav_menu": {},
   "number_sections": true,
   "sideBar": true,
   "skip_h1_title": false,
   "title_cell": "Table of Contents",
   "title_sidebar": "Contents",
   "toc_cell": false,
   "toc_position": {},
   "toc_section_display": true,
   "toc_window_display": false
  }
 },
 "nbformat": 4,
 "nbformat_minor": 1
}
