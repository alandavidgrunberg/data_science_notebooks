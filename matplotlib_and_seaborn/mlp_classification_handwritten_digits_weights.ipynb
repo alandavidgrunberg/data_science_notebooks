{
 "cells": [
  {
   "cell_type": "code",
   "execution_count": 2,
   "id": "86510eb7",
   "metadata": {},
   "outputs": [
    {
     "name": "stdout",
     "output_type": "stream",
     "text": [
      "(70000, 784) (70000,)\n",
      "0.0 255.0\n",
      "['5' '0' '4' '1' '9']\n"
     ]
    }
   ],
   "source": [
    "from sklearn.datasets import fetch_openml\n",
    "import numpy as np\n",
    "from sklearn.neural_network import MLPClassifier\n",
    "import matplotlib.pyplot as plt\n",
    "\n",
    "X, y = fetch_openml('mnist_784', version=1, return_X_y=True) # 'fetch_openml()' downloads datasets from Open ML database. 'return_X_y' returns (data,targets). unpacked and assigned to X, y\n",
    "\n",
    "print(X.shape, y.shape) # 70000 datapoints, 784 features (28 x 28 pixels)\n",
    "print(np.min(X), np.max(X)) # feature values range from 0 (white) to 255 (black)\n",
    "print(y[0:5]) # first 5 target values: digits 0 to 9 stored as strings\n",
    "\n"
   ]
  },
  {
   "cell_type": "code",
   "execution_count": 3,
   "id": "4fdb1a89",
   "metadata": {},
   "outputs": [
    {
     "name": "stdout",
     "output_type": "stream",
     "text": [
      "(28911, 784) (28911,)\n",
      "0.0 255.0\n",
      "['0' '1' '2' '1' '3']\n"
     ]
    }
   ],
   "source": [
    "X3 = X[y <= '3'] # select only datapoints with digits 0 to 3 with mask\n",
    "y3 = y[y <= '3'] # select only corresponding targets with mask\n",
    "\n",
    "print(X3.shape, y3.shape) # new dataset size \n",
    "print(np.min(X3), np.max(X3)) \n",
    "print(y3[0:5]) # we see the target values are only from 0 to 3 now\n"
   ]
  },
  {
   "cell_type": "code",
   "execution_count": 4,
   "id": "455cae7f",
   "metadata": {},
   "outputs": [
    {
     "name": "stdout",
     "output_type": "stream",
     "text": [
      "[[  0.   0.   0.   0.   0.   0.   0.   0.   0.   0.   0.   0.   0.   0.   0.   0.   0.   0.   0.   0.   0.   0.   0.   0.   0.   0.   0.   0.]\n",
      " [  0.   0.   0.   0.   0.   0.   0.   0.   0.   0.   0.   0.   0.   0.   0.   0.   0.   0.   0.   0.   0.   0.   0.   0.   0.   0.   0.   0.]\n",
      " [  0.   0.   0.   0.   0.   0.   0.   0.   0.   0.   0.   0.   0.   0.   0.   0.   0.   0.   0.   0.   0.   0.   0.   0.   0.   0.   0.   0.]\n",
      " [  0.   0.   0.   0.   0.   0.   0.   0.   0.   0.   0.   0.   0.   0.   0.   0.   0.   0.   0.   0.   0.   0.   0.   0.   0.   0.   0.   0.]\n",
      " [  0.   0.   0.   0.   0.   0.   0.   0.   0.   0.   0.   0.   0.   0.   0.  51. 159. 253. 159.  50.   0.   0.   0.   0.   0.   0.   0.   0.]\n",
      " [  0.   0.   0.   0.   0.   0.   0.   0.   0.   0.   0.   0.   0.   0.  48. 238. 252. 252. 252. 237.   0.   0.   0.   0.   0.   0.   0.   0.]\n",
      " [  0.   0.   0.   0.   0.   0.   0.   0.   0.   0.   0.   0.   0.  54. 227. 253. 252. 239. 233. 252.  57.   6.   0.   0.   0.   0.   0.   0.]\n",
      " [  0.   0.   0.   0.   0.   0.   0.   0.   0.   0.   0.  10.  60. 224. 252. 253. 252. 202.  84. 252. 253. 122.   0.   0.   0.   0.   0.   0.]\n",
      " [  0.   0.   0.   0.   0.   0.   0.   0.   0.   0.   0. 163. 252. 252. 252. 253. 252. 252.  96. 189. 253. 167.   0.   0.   0.   0.   0.   0.]\n",
      " [  0.   0.   0.   0.   0.   0.   0.   0.   0.   0.  51. 238. 253. 253. 190. 114. 253. 228.  47.  79. 255. 168.   0.   0.   0.   0.   0.   0.]\n",
      " [  0.   0.   0.   0.   0.   0.   0.   0.   0.  48. 238. 252. 252. 179.  12.  75. 121.  21.   0.   0. 253. 243.  50.   0.   0.   0.   0.   0.]\n",
      " [  0.   0.   0.   0.   0.   0.   0.   0.  38. 165. 253. 233. 208.  84.   0.   0.   0.   0.   0.   0. 253. 252. 165.   0.   0.   0.   0.   0.]\n",
      " [  0.   0.   0.   0.   0.   0.   0.   7. 178. 252. 240.  71.  19.  28.   0.   0.   0.   0.   0.   0. 253. 252. 195.   0.   0.   0.   0.   0.]\n",
      " [  0.   0.   0.   0.   0.   0.   0.  57. 252. 252.  63.   0.   0.   0.   0.   0.   0.   0.   0.   0. 253. 252. 195.   0.   0.   0.   0.   0.]\n",
      " [  0.   0.   0.   0.   0.   0.   0. 198. 253. 190.   0.   0.   0.   0.   0.   0.   0.   0.   0.   0. 255. 253. 196.   0.   0.   0.   0.   0.]\n",
      " [  0.   0.   0.   0.   0.   0.  76. 246. 252. 112.   0.   0.   0.   0.   0.   0.   0.   0.   0.   0. 253. 252. 148.   0.   0.   0.   0.   0.]\n",
      " [  0.   0.   0.   0.   0.   0.  85. 252. 230.  25.   0.   0.   0.   0.   0.   0.   0.   0.   7. 135. 253. 186.  12.   0.   0.   0.   0.   0.]\n",
      " [  0.   0.   0.   0.   0.   0.  85. 252. 223.   0.   0.   0.   0.   0.   0.   0.   0.   7. 131. 252. 225.  71.   0.   0.   0.   0.   0.   0.]\n",
      " [  0.   0.   0.   0.   0.   0.  85. 252. 145.   0.   0.   0.   0.   0.   0.   0.  48. 165. 252. 173.   0.   0.   0.   0.   0.   0.   0.   0.]\n",
      " [  0.   0.   0.   0.   0.   0.  86. 253. 225.   0.   0.   0.   0.   0.   0. 114. 238. 253. 162.   0.   0.   0.   0.   0.   0.   0.   0.   0.]\n",
      " [  0.   0.   0.   0.   0.   0.  85. 252. 249. 146.  48.  29.  85. 178. 225. 253. 223. 167.  56.   0.   0.   0.   0.   0.   0.   0.   0.   0.]\n",
      " [  0.   0.   0.   0.   0.   0.  85. 252. 252. 252. 229. 215. 252. 252. 252. 196. 130.   0.   0.   0.   0.   0.   0.   0.   0.   0.   0.   0.]\n",
      " [  0.   0.   0.   0.   0.   0.  28. 199. 252. 252. 253. 252. 252. 233. 145.   0.   0.   0.   0.   0.   0.   0.   0.   0.   0.   0.   0.   0.]\n",
      " [  0.   0.   0.   0.   0.   0.   0.  25. 128. 252. 253. 252. 141.  37.   0.   0.   0.   0.   0.   0.   0.   0.   0.   0.   0.   0.   0.   0.]\n",
      " [  0.   0.   0.   0.   0.   0.   0.   0.   0.   0.   0.   0.   0.   0.   0.   0.   0.   0.   0.   0.   0.   0.   0.   0.   0.   0.   0.   0.]\n",
      " [  0.   0.   0.   0.   0.   0.   0.   0.   0.   0.   0.   0.   0.   0.   0.   0.   0.   0.   0.   0.   0.   0.   0.   0.   0.   0.   0.   0.]\n",
      " [  0.   0.   0.   0.   0.   0.   0.   0.   0.   0.   0.   0.   0.   0.   0.   0.   0.   0.   0.   0.   0.   0.   0.   0.   0.   0.   0.   0.]\n",
      " [  0.   0.   0.   0.   0.   0.   0.   0.   0.   0.   0.   0.   0.   0.   0.   0.   0.   0.   0.   0.   0.   0.   0.   0.   0.   0.   0.   0.]]\n"
     ]
    }
   ],
   "source": [
    "np.set_printoptions(linewidth = 200) # set higher 'lindwidth' (default = 75 ) so the image data will properly fit the screen\n",
    "print(X3[0].reshape(28,28)) # reshape features array to 28 x 28 to view the first image data properly. we can see it's a handwritten 0 \n"
   ]
  },
  {
   "cell_type": "code",
   "execution_count": 5,
   "id": "4b65ca51",
   "metadata": {},
   "outputs": [
    {
     "data": {
      "image/png": "[encoded data removed]",
      "text/plain": [
       "<Figure size 288x288 with 1 Axes>"
      ]
     },
     "metadata": {},
     "output_type": "display_data"
    }
   ],
   "source": [
    "plt.matshow(X3[0].reshape(28, 28), cmap=plt.cm.gray_r) # 'matshow()' displays an array as a matrix, 'cmap=' passing grayscale colormap ('gray_r' makes the colormap run from 0=white to 255=black)\n",
    "plt.xticks(()) # remove x tick marks\n",
    "plt.yticks(())  # remove y tick marks\n",
    "plt.show()\n"
   ]
  },
  {
   "cell_type": "code",
   "execution_count": 7,
   "id": "b79c4f3f",
   "metadata": {},
   "outputs": [
    {
     "name": "stdout",
     "output_type": "stream",
     "text": [
      "'mlp.coefs_' list with 2 elements:\n",
      "\n",
      "hidden layer weights (784, 6)\n",
      "[[-1.11549767e-02 -8.26228225e-02  8.65530719e-03 -1.12721834e-02 -1.38785088e-02 -2.95696934e-02]\n",
      " [-5.14746124e-02  2.07868575e-02 -3.49167101e-02 -4.06379554e-02  2.11115228e-02  5.07896080e-03]\n",
      " [-6.36863677e-02  2.36643067e-03 -5.49966497e-02  4.97289596e-02  6.16917445e-02 -1.00441913e-03]\n",
      " [ 6.03996467e-02 -7.32604912e-02  9.14302377e-04 -7.57630107e-02 -1.25270297e-02 -7.03176526e-02]\n",
      " [-6.49795402e-02  1.68610268e-02 -4.77513488e-02 -6.85025393e-02 -4.87457695e-02 -2.61726698e-02]\n",
      " [-5.61408186e-03 -5.19809745e-02  2.44704532e-02 -2.95063356e-03  9.12669330e-04 -1.97126461e-02]\n",
      " [ 5.11759074e-02  1.39433386e-02 -5.88554880e-02  3.49876467e-02  8.09631834e-02  1.45720672e-06]\n",
      " [ 6.78865807e-02 -2.76039890e-02  1.17020551e-02 -1.26274800e-02 -1.10238533e-02  4.81994617e-02]\n",
      " [ 6.20518895e-03  7.90793880e-02  7.70471436e-03 -7.28335955e-02 -2.32941976e-02  6.11471481e-02]\n",
      " [-1.63346319e-02 -8.24004145e-02 -4.40626154e-02 -7.54392169e-02  8.60698267e-02  8.20139740e-02]\n",
      " [ 5.23298147e-02  1.77449556e-02  4.61779010e-02 -5.76482587e-02 -3.60724552e-02  4.19443829e-03]\n",
      " [-2.49878972e-02 -7.91802642e-02  8.42052525e-02 -1.02208188e-02  6.97207091e-04 -3.07536830e-02]\n",
      " [-4.18723160e-02 -1.97131281e-02  5.78647780e-02  4.12608993e-02 -2.10514999e-02 -8.48726187e-02]\n",
      " [ 5.18325146e-02 -4.01915266e-02  1.44105397e-02 -8.26882290e-02  2.82689943e-02 -1.96027130e-02]\n",
      " [-5.09986049e-04 -1.48304343e-02 -2.59904370e-02  8.88456334e-03  8.24201182e-02 -6.74863791e-02]\n",
      " [-3.25457945e-02 -7.98566996e-02  4.15489366e-02  2.74516730e-02 -4.97340322e-02 -1.45084293e-02]\n",
      " [ 2.50691504e-02  2.81433901e-02 -5.74301114e-02  6.65153549e-02  4.84519929e-02 -6.37954228e-02]\n",
      " [ 6.42957594e-02  4.33576626e-02  5.20382927e-02  7.55432073e-03 -4.86531020e-02  7.29300729e-02]\n",
      " [ 1.60487423e-02 -2.67980613e-02 -4.11692989e-02  7.21382774e-02 -1.39887148e-02  7.00468300e-03]\n",
      " [ 1.88995843e-02  5.68596777e-02  2.15349166e-02 -5.63434543e-02  1.59045713e-02 -1.87072063e-03]]\n",
      " ...\n",
      "\n",
      "output layer weights (6, 4)\n",
      "[[ 0.16383607 -2.14540797  0.13975678  0.98943363]\n",
      " [-0.03473792 -0.21456995 -0.31140566  0.89642157]\n",
      " [-2.56143875 -0.46386833  1.55130226  1.3558958 ]\n",
      " [ 1.3228356  -2.67000735  0.18578617 -0.01939161]\n",
      " [-0.06139275 -0.68992338 -0.31167453 -0.17694889]\n",
      " [ 0.13252167  0.09656283 -0.78000521 -0.21691693]]\n"
     ]
    }
   ],
   "source": [
    "mlp=MLPClassifier(hidden_layer_sizes=(6), solver='sgd', random_state=2) # instantiate neural network with: 1 hidden layer w/ 6 nodes, 'sgd' solver.\n",
    "                                                        # default n input nodes = n features, 'relu' activation for hidden layer.\n",
    "                                                        # default for multilabel classification: n output neurons = n targets, 'softmax' activation for output layer\n",
    "#  \n",
    "#                                    input layer  ->  hidden layer  ->  output layer\n",
    "#                                    784 neurons      6 neurons         4 neurons (targets 0, 1, 2, 3)\n",
    "#                                                     relu activation   softmax activation\n",
    "\n",
    "mlp.fit(X3, y3) # fit neural network. takes a while but it does converge (find optimal coefficients: weights and biases)\n",
    "\n",
    "\n",
    "# look at weights at biases\n",
    "\n",
    "print(\"'mlp.coefs_' list with\", len(mlp.coefs_), \"elements:\") # neural network's weights stored in  'mlp.coefs_' as a list with 2 elements\n",
    "print()\n",
    "print(\"hidden layer weights\", mlp.coefs_[0].shape) # the first element in the list is an array of the weights for the hidden layer.\n",
    "                           # row = features, column = each neuron in the hidden layer. so 784 features (inputs) with 6 weights each (one per hidden layer neuron)\n",
    "print(mlp.coefs_[0][0:20]) # first 20 (of 784) feature's weights: each feature has 6 values, one for each hidden layer neuron \n",
    "print(\" ...\")\n",
    "print()\n",
    "print(\"output layer weights\", mlp.coefs_[1].shape) # the second element in the list is an array of the weights for the output layer.\n",
    "                           # row = each neuron in the hidden layer, column = each neuron in the output layer. so 6 hidden layer neurons with 4 weights each (one per output layer neuron)\n",
    "print(mlp.coefs_[1][0:6]) # all 6 hidden layer neuron's weights: eacah hidden layer neuron has 4 values, one for each output layer neuron\n",
    "\n"
   ]
  },
  {
   "cell_type": "code",
   "execution_count": 8,
   "id": "22f217f7",
   "metadata": {},
   "outputs": [
    {
     "name": "stdout",
     "output_type": "stream",
     "text": [
      "'mlp.intercepts_' list with 2 elements:\n",
      "\n",
      "hidden layer biases (6,)\n",
      "[-0.09079433  0.05372968  0.07468312  0.0185522   0.04822678 -0.06673119]\n",
      "\n",
      "output layer biases (4,)\n",
      "[-2.56603365  1.10566874  0.98161485  0.99880232]\n"
     ]
    }
   ],
   "source": [
    "print(\"'mlp.intercepts_' list with\", len(mlp.intercepts_), \"elements:\") # neural network's biases stored in 'mlp.intercepts_' as a list with 2 elements\n",
    "print()\n",
    "print(\"hidden layer biases\", mlp.intercepts_[0].shape) # the first element in the list is a 1d array of the biases for the hidden layer.\n",
    "                                # 6 neurons in the hidden layer so 6 biases, one for each neuron\n",
    "print(mlp.intercepts_[0][0:6]) # all 6 hidden layer neuron's biases\n",
    "print()\n",
    "print(\"output layer biases\", mlp.intercepts_[1].shape) # the second element in the list is a 1d array of the biases for the output layer.\n",
    "                                # 4 neurons in the output layer so 4 biases, one for each neuron\n",
    "print(mlp.intercepts_[1][0:4]) # all 4 output layer neuron's biases"
   ]
  },
  {
   "cell_type": "code",
   "execution_count": 9,
   "id": "b2d5e8e1",
   "metadata": {},
   "outputs": [
    {
     "name": "stdout",
     "output_type": "stream",
     "text": [
      "plots of the 6 hidden layer neurons' weights:\n"
     ]
    },
    {
     "data": {
      "image/png": "[encoded data removed]",
      "text/plain": [
       "<Figure size 432x360 with 6 Axes>"
      ]
     },
     "metadata": {},
     "output_type": "display_data"
    }
   ],
   "source": [
    "#visualize weights of hidden layer\n",
    "\n",
    "print(\"plots of the 6 hidden layer neurons' weights:\")\n",
    "fig, axes = plt.subplots(2, 3, figsize=(6, 5)) # use 'subplots()' to create multiple axes (plots) within a single figure. creates 2 rows x 3 columns array of axes (6 axes)\n",
    "for i, ax in enumerate(axes.ravel()): # 'ravel()' reshapes axes from 2d array (2,3) to 1d array (6,)\n",
    "                                      # 'enumerate()' makes the axes iterable (capable of being called one at a time in a 'for' loop)\n",
    "                                      # 'for' loop over 'i' and each 'ax' (runs 6 times because 6 axes)\n",
    "    weights = mlp.coefs_[0][:, i] # selects each column from array of weights for the hidden layer. i column = i neuron's weights (1st column = 1st neuron's weights, etc.)\n",
    "    ax.matshow(weights.reshape(28, 28), cmap=plt.cm.gray) # reshapes each neuron's 784 weights to a 28 x 28 grid, plots them with grayscale colormap\n",
    "    ax.set_xticks(()) # erases tick marks\n",
    "    ax.set_yticks(()) # \"\n",
    "    ax.set_title(i + 1) # sets each plot's title\n",
    "plt.show()\n",
    "# You can see that neurons 4 and 6 are determining if the digit is a 3. \n",
    "# Neuron 1 is determining if the digit is a 0 or a 2 since you can see both of those values in the image\n",
    "# Not every hidden neuron will have an obvious use.\n",
    "\n",
    "# code and comments by github.com/alandavidgrunberg\n"
   ]
  }
 ],
 "metadata": {
  "kernelspec": {
   "display_name": "Python 3 (ipykernel)",
   "language": "python",
   "name": "python3"
  },
  "language_info": {
   "codemirror_mode": {
    "name": "ipython",
    "version": 3
   },
   "file_extension": ".py",
   "mimetype": "text/x-python",
   "name": "python",
   "nbconvert_exporter": "python",
   "pygments_lexer": "ipython3",
   "version": "3.8.12"
  },
  "toc": {
   "base_numbering": 1,
   "nav_menu": {},
   "number_sections": true,
   "sideBar": true,
   "skip_h1_title": false,
   "title_cell": "Table of Contents",
   "title_sidebar": "Contents",
   "toc_cell": false,
   "toc_position": {},
   "toc_section_display": true,
   "toc_window_display": false
  }
 },
 "nbformat": 4,
 "nbformat_minor": 5
}
